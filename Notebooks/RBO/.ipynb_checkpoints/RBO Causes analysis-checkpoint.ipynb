{
 "cells": [
  {
   "cell_type": "code",
   "execution_count": 1,
   "metadata": {},
   "outputs": [],
   "source": [
    "import rbo\n",
    "import pandas as pd\n",
    "import numpy as np\n",
    "import matplotlib.pyplot as plt\n",
    "\n",
    "%matplotlib inline"
   ]
  },
  {
   "cell_type": "code",
   "execution_count": 8,
   "metadata": {},
   "outputs": [],
   "source": [
    "data=pd.read_csv(\"RBO-Role-Cause.csv\")"
   ]
  },
  {
   "cell_type": "code",
   "execution_count": 9,
   "metadata": {},
   "outputs": [],
   "source": [
    "ar_rank=data[data['ROLES']=='ARCHITECT']\n",
    "te_rank=data[data['ROLES']=='TECHNICAL']\n",
    "ma_rank=data[data['ROLES']=='MANAGEMENT']"
   ]
  },
  {
   "cell_type": "code",
   "execution_count": 10,
   "metadata": {},
   "outputs": [],
   "source": [
    "roles=['ARCHITECT','TECHNICAL','MANAGEMENT']\n",
    "p_values=np.arange(0.5, 0.98, 0.01)"
   ]
  },
  {
   "cell_type": "code",
   "execution_count": 13,
   "metadata": {},
   "outputs": [],
   "source": [
    "rboDF=pd.DataFrame(columns = ['roles' , 'p', 'RBO'])\n",
    "for i in range(len(roles)):\n",
    "    for j in range(len(roles)):\n",
    "        if i>j:\n",
    "            for p_val in p_values:\n",
    "                #print(countries[i]+\"-\"+countries[j]+\",\"+str(p))\n",
    "                rbo_ext=rbo.rbo(data[data['ROLES']==roles[i]]['CAUSE'], data[data['ROLES']==roles[j]]['CAUSE'], p=p_val)\n",
    "                #rboDF=rboDF.append({'Countries':'CO-CHI','p':0.5,'RBO':99},ignore_index=True)\n",
    "                rboDF=rboDF.append({'roles':roles[i]+\"-\"+roles[j],'p':p_val,'RBO':rbo_ext['ext']},ignore_index=True)\n",
    "            \n",
    "        "
   ]
  },
  {
   "cell_type": "code",
   "execution_count": 15,
   "metadata": {},
   "outputs": [
    {
     "data": {
      "text/plain": [
       "{'min': 0.6282962119931566,\n",
       " 'res': 0.007173622219361627,\n",
       " 'ext': 0.6361196787256219}"
      ]
     },
     "execution_count": 15,
     "metadata": {},
     "output_type": "execute_result"
    }
   ],
   "source": [
    "rbo_ext=rbo.rbo(data[data['ROLES']==roles[0]]['CAUSE'], data[data['ROLES']==roles[1]]['CAUSE'], p=0.95)\n",
    "rbo_ext"
   ]
  },
  {
   "cell_type": "code",
   "execution_count": 16,
   "metadata": {},
   "outputs": [
    {
     "data": {
      "text/html": [
       "<div>\n",
       "<style scoped>\n",
       "    .dataframe tbody tr th:only-of-type {\n",
       "        vertical-align: middle;\n",
       "    }\n",
       "\n",
       "    .dataframe tbody tr th {\n",
       "        vertical-align: top;\n",
       "    }\n",
       "\n",
       "    .dataframe thead th {\n",
       "        text-align: right;\n",
       "    }\n",
       "</style>\n",
       "<table border=\"1\" class=\"dataframe\">\n",
       "  <thead>\n",
       "    <tr style=\"text-align: right;\">\n",
       "      <th></th>\n",
       "      <th>roles</th>\n",
       "      <th>p</th>\n",
       "      <th>RBO</th>\n",
       "    </tr>\n",
       "  </thead>\n",
       "  <tbody>\n",
       "    <tr>\n",
       "      <td>56</td>\n",
       "      <td>MANAGEMENT-ARCHITECT</td>\n",
       "      <td>0.58</td>\n",
       "      <td>0.369185</td>\n",
       "    </tr>\n",
       "    <tr>\n",
       "      <td>8</td>\n",
       "      <td>TECHNICAL-ARCHITECT</td>\n",
       "      <td>0.58</td>\n",
       "      <td>0.758660</td>\n",
       "    </tr>\n",
       "    <tr>\n",
       "      <td>134</td>\n",
       "      <td>MANAGEMENT-TECHNICAL</td>\n",
       "      <td>0.88</td>\n",
       "      <td>0.352369</td>\n",
       "    </tr>\n",
       "    <tr>\n",
       "      <td>106</td>\n",
       "      <td>MANAGEMENT-TECHNICAL</td>\n",
       "      <td>0.60</td>\n",
       "      <td>0.139870</td>\n",
       "    </tr>\n",
       "    <tr>\n",
       "      <td>129</td>\n",
       "      <td>MANAGEMENT-TECHNICAL</td>\n",
       "      <td>0.83</td>\n",
       "      <td>0.293206</td>\n",
       "    </tr>\n",
       "    <tr>\n",
       "      <td>39</td>\n",
       "      <td>TECHNICAL-ARCHITECT</td>\n",
       "      <td>0.89</td>\n",
       "      <td>0.639453</td>\n",
       "    </tr>\n",
       "    <tr>\n",
       "      <td>142</td>\n",
       "      <td>MANAGEMENT-TECHNICAL</td>\n",
       "      <td>0.96</td>\n",
       "      <td>0.523745</td>\n",
       "    </tr>\n",
       "    <tr>\n",
       "      <td>25</td>\n",
       "      <td>TECHNICAL-ARCHITECT</td>\n",
       "      <td>0.75</td>\n",
       "      <td>0.689114</td>\n",
       "    </tr>\n",
       "    <tr>\n",
       "      <td>17</td>\n",
       "      <td>TECHNICAL-ARCHITECT</td>\n",
       "      <td>0.67</td>\n",
       "      <td>0.722538</td>\n",
       "    </tr>\n",
       "    <tr>\n",
       "      <td>87</td>\n",
       "      <td>MANAGEMENT-ARCHITECT</td>\n",
       "      <td>0.89</td>\n",
       "      <td>0.659023</td>\n",
       "    </tr>\n",
       "  </tbody>\n",
       "</table>\n",
       "</div>"
      ],
      "text/plain": [
       "                    roles     p       RBO\n",
       "56   MANAGEMENT-ARCHITECT  0.58  0.369185\n",
       "8     TECHNICAL-ARCHITECT  0.58  0.758660\n",
       "134  MANAGEMENT-TECHNICAL  0.88  0.352369\n",
       "106  MANAGEMENT-TECHNICAL  0.60  0.139870\n",
       "129  MANAGEMENT-TECHNICAL  0.83  0.293206\n",
       "39    TECHNICAL-ARCHITECT  0.89  0.639453\n",
       "142  MANAGEMENT-TECHNICAL  0.96  0.523745\n",
       "25    TECHNICAL-ARCHITECT  0.75  0.689114\n",
       "17    TECHNICAL-ARCHITECT  0.67  0.722538\n",
       "87   MANAGEMENT-ARCHITECT  0.89  0.659023"
      ]
     },
     "execution_count": 16,
     "metadata": {},
     "output_type": "execute_result"
    }
   ],
   "source": [
    "rboDF.sample(10)"
   ]
  },
  {
   "cell_type": "code",
   "execution_count": 18,
   "metadata": {},
   "outputs": [
    {
     "data": {
      "text/plain": [
       "[<matplotlib.lines.Line2D at 0x122596b10>]"
      ]
     },
     "execution_count": 18,
     "metadata": {},
     "output_type": "execute_result"
    },
    {
     "data": {
      "image/png": "[encoded data removed]",
      "text/plain": [
       "<Figure size 432x288 with 1 Axes>"
      ]
     },
     "metadata": {
      "needs_background": "light"
     },
     "output_type": "display_data"
    }
   ],
   "source": [
    "plt.plot( 'p', 'RBO', data=rboDF[rboDF['roles']=='MANAGEMENT-TECHNICAL'], color='olive', linestyle='dashed', label=roles[i]+\"-\"+roles[j])"
   ]
  },
  {
   "cell_type": "code",
   "execution_count": 19,
   "metadata": {},
   "outputs": [
    {
     "data": {
      "text/plain": [
       "<matplotlib.legend.Legend at 0x122f16c50>"
      ]
     },
     "execution_count": 19,
     "metadata": {},
     "output_type": "execute_result"
    },
    {
     "data": {
      "image/png": "[encoded data removed]",
      "text/plain": [
       "<Figure size 936x576 with 1 Axes>"
      ]
     },
     "metadata": {
      "needs_background": "light"
     },
     "output_type": "display_data"
    }
   ],
   "source": [
    "colors=['red','olive','blue','black','green','orange']\n",
    "markers=['o','','x','o','','x']\n",
    "plt.figure(figsize=(13,8))\n",
    "count=0\n",
    "for i in range(len(roles)):\n",
    "    for j in range(len(roles)):\n",
    "        if i>j:\n",
    "            \n",
    "            pair=roles[i]+\"-\"+roles[j]\n",
    "            plt.plot( 'p', 'RBO', data=rboDF[rboDF['roles']==pair], marker=markers[count], color=colors[count]\n",
    "                     , linestyle='dashed', label=pair)\n",
    "            count=count+1\n",
    "plt.legend()\n"
   ]
  },
  {
   "cell_type": "code",
   "execution_count": 22,
   "metadata": {},
   "outputs": [
    {
     "data": {
      "text/plain": [
       "{'min': 0.6187234011190773,\n",
       " 'res': 2.4722272533446445e-06,\n",
       " 'ext': 0.6187247516599744}"
      ]
     },
     "execution_count": 22,
     "metadata": {},
     "output_type": "execute_result"
    }
   ],
   "source": [
    "rbo.rbo(ma_rank['CAUSE'], ar_rank['CAUSE'], p=.85)"
   ]
  }
 ],
 "metadata": {
  "kernelspec": {
   "display_name": "Python 3",
   "language": "python",
   "name": "python3"
  },
  "language_info": {
   "codemirror_mode": {
    "name": "ipython",
    "version": 3
   },
   "file_extension": ".py",
   "mimetype": "text/x-python",
   "name": "python",
   "nbconvert_exporter": "python",
   "pygments_lexer": "ipython3",
   "version": "3.7.4"
  }
 },
 "nbformat": 4,
 "nbformat_minor": 2
}
