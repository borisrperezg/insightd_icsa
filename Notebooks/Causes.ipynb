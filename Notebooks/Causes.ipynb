{
 "cells": [
  {
   "cell_type": "code",
   "execution_count": 13,
   "metadata": {},
   "outputs": [],
   "source": [
    "import pandas as pd\n",
    "import matplotlib.pyplot as plt\n",
    "\n",
    "pd.set_option('display.max_rows', 500)"
   ]
  },
  {
   "cell_type": "code",
   "execution_count": 14,
   "metadata": {},
   "outputs": [],
   "source": [
    "df = pd.read_excel (r'../eclipse-workspace/processinginsightd_datasource/InsighTD-Respuestas(BR-CH-CO-US).xlsx')"
   ]
  },
  {
   "cell_type": "code",
   "execution_count": 15,
   "metadata": {},
   "outputs": [
    {
     "data": {
      "text/plain": [
       "432"
      ]
     },
     "execution_count": 15,
     "metadata": {},
     "output_type": "execute_result"
    }
   ],
   "source": [
    "df.shape[0]"
   ]
  },
  {
   "cell_type": "code",
   "execution_count": 16,
   "metadata": {},
   "outputs": [],
   "source": [
    "df.rename(columns={ df.columns[0]: \"Q1Size\" }, inplace = True)\n",
    "df.rename(columns={ df.columns[1]: \"Q2Country\" }, inplace = True)\n",
    "df.rename(columns={ df.columns[2]: \"Q3LOC\" }, inplace = True)\n",
    "df.rename(columns={ df.columns[3]: \"Q4NumberPeople\" }, inplace = True)\n",
    "df.rename(columns={ df.columns[4]: \"Q5Age\" }, inplace = True)\n",
    "df.rename(columns={ df.columns[5]: \"Q6Role\" }, inplace = True)\n",
    "df.rename(columns={ df.columns[6]: \"CodeRole\" }, inplace = True)\n",
    "df.rename(columns={ df.columns[7]: \"Q7Experience\" }, inplace = True)\n",
    "df.rename(columns={ df.columns[8]: \"Q8DevProcess\" }, inplace = True)\n",
    "df.rename(columns={ df.columns[9]: \"Q13Example\" }, inplace = True)\n",
    "df.rename(columns={ df.columns[10]: \"ExampleTDType\" }, inplace = True)\n",
    "df.rename(columns={ df.columns[11]: \"Q15ExampleRepresentative\" }, inplace = True)\n",
    "df.rename(columns={ df.columns[12]: \"CodeCauses\" }, inplace = True)\n",
    "df.rename(columns={ df.columns[13]: \"Q24WasDebtMonitored\" }, inplace = True)\n",
    "df.rename(columns={ df.columns[14]: \"Q25HowMonitored\" }, inplace = True)\n",
    "df.rename(columns={ df.columns[15]: \"CodeMonitored\" }, inplace = True)\n",
    "df.rename(columns={ df.columns[16]: \"Q26WasDebtPaidOff\" }, inplace = True)\n",
    "df.rename(columns={ df.columns[17]: \"Q27HowPaidOff\" }, inplace = True)\n",
    "df.rename(columns={ df.columns[18]: \"CodePayOff\" }, inplace = True)\n",
    "df.rename(columns={ df.columns[19]: \"FinalRepayCode\" }, inplace = True)\n",
    "df.rename(columns={ df.columns[20]: \"Q28HowPrevent\" }, inplace = True)\n",
    "df.rename(columns={ df.columns[21]: \"CodePrevent\" }, inplace = True)"
   ]
  },
  {
   "cell_type": "code",
   "execution_count": 17,
   "metadata": {},
   "outputs": [],
   "source": [
    "#list(df.columns) "
   ]
  },
  {
   "cell_type": "markdown",
   "metadata": {},
   "source": [
    "## REPLACING VALUES OF THE ROWS"
   ]
  },
  {
   "cell_type": "code",
   "execution_count": 18,
   "metadata": {},
   "outputs": [],
   "source": [
    "df['Q1Size'].replace(['1-10 empleados', '1-10 funcionários'], '1-10 employees', inplace=True)\n",
    "df['Q1Size'].replace(['11-50 empleados', '11-50 funcionários'], '11-50 employees', inplace=True)\n",
    "df['Q1Size'].replace(['51-250 empleados', '51-250 funcionários'], '51-250 employees', inplace=True)\n",
    "df['Q1Size'].replace(['251-500 empleados', '251-500 funcionários'], '251-500 employees', inplace=True)\n",
    "df['Q1Size'].replace(['501-1000 empleados', '501-1000 funcionários'], '501-1000 employees', inplace=True)\n",
    "df['Q1Size'].replace(['1001-2000 empleados', '1001-2000 funcionários'], '1001-2000 employees', inplace=True)\n",
    "df['Q1Size'].replace(['mas de 2000 empleados', 'mais que 2000 funcionários'], 'more than 2000 employees', inplace=True)"
   ]
  },
  {
   "cell_type": "code",
   "execution_count": 19,
   "metadata": {},
   "outputs": [],
   "source": [
    "df['Q4NumberPeople'].replace(['Menos de 5 personas', 'Menos que 5 pessoas'], 'Less than 5 people', inplace=True)\n",
    "df['Q4NumberPeople'].replace(['5-9 personas', '5-9 pessoas'], '5-9 people', inplace=True)\n",
    "df['Q4NumberPeople'].replace(['10-20 personas', '10-20 pessoas'], '10-20 people', inplace=True)\n",
    "df['Q4NumberPeople'].replace(['21-30 personas', '21-30 pessoas'], '21-30 people', inplace=True)\n",
    "df['Q4NumberPeople'].replace(['Más de 30 personas', 'Mais que 30 pessoas'], 'More than 30 people', inplace=True)"
   ]
  },
  {
   "cell_type": "code",
   "execution_count": 20,
   "metadata": {},
   "outputs": [],
   "source": [
    "df['Q5Age'].replace(['Menos de 1 año', 'Menos que 1 ano'], 'Less than 1 year', inplace=True)\n",
    "df['Q5Age'].replace(['1-2 años', '1-2 anos'], '1-2 years', inplace=True)\n",
    "df['Q5Age'].replace(['2-5 años', '2-5 anos'], '2-5 years', inplace=True)\n",
    "df['Q5Age'].replace(['5-10 años', '5-10 anos'], '5-10 years', inplace=True)\n",
    "df['Q5Age'].replace(['Más de 10 años', 'Mais que 10 anos'], 'More than 10 years', inplace=True)"
   ]
  },
  {
   "cell_type": "code",
   "execution_count": 21,
   "metadata": {},
   "outputs": [],
   "source": [
    "df['Q7Experience'].replace(['Competente (Buen conocimiento laboral y de fondo del área de práctica)', 'Competente'], 'Competent', inplace=True)\n",
    "df['Q7Experience'].replace(['Proficiente (Profundo entendimiento de la disciplina y del área de práctica)', 'Proficiente'], 'Proficient', inplace=True)\n",
    "df['Q7Experience'].replace(['Experto (Conocimiento autoritativo de la disciplina y un entendimiento profundo al rededor del área de práctica)', 'Especialista'], 'Expert', inplace=True)\n",
    "df['Q7Experience'].replace(['Principiante (Conocimiento laboral de los aspectos claves del área de práctica)', 'Iniciante'], 'Beginner', inplace=True)\n",
    "df['Q7Experience'].replace(['Novato (Conocimiento mínimo o teórico sin conectarlo a la práctica)', 'Novato'], 'Novice', inplace=True)"
   ]
  },
  {
   "cell_type": "code",
   "execution_count": 22,
   "metadata": {},
   "outputs": [],
   "source": [
    "df['Q8DevProcess'].replace(['Híbrido (es la combinación de métodos ágiles con otras técnicas no ágiles. Por ejemplo, un esfuerzo para detallar requisitos, seguido de sprints de entrega incremental)', 'Híbrido'], 'Hybrid', inplace=True)\n",
    "df['Q8DevProcess'].replace(['Ágil (un proceso ligero que promueve el desarrollo iterativo, la estrecha colaboración entre el equipo de desarrollo y el negocio, la comunicación constante y los equipos muy cohesionados).', 'Ágil'], 'Agile', inplace=True)\n",
    "df['Q8DevProcess'].replace(['Tradicional (métodos convencionales de desarrollo de software basados en documentos que pueden caracterizarse como planificación extensiva, estandarización de las etapas de desarrollo, comunicación formalizada, documentación significativa y diseño de up-front).', 'Tradicional'], 'Traditional', inplace=True)\n",
    "df['Q8DevProcess'].replace(['', ''], '', inplace=True)"
   ]
  },
  {
   "cell_type": "markdown",
   "metadata": {},
   "source": [
    "## TRANSFORMING EVERYTHING TO UPPERCASE"
   ]
  },
  {
   "cell_type": "code",
   "execution_count": 23,
   "metadata": {},
   "outputs": [],
   "source": [
    "df['CodeCauses'] = df['CodeCauses'].str.strip()\n",
    "df['CodeCauses'] = df['CodeCauses'].str.upper() \n",
    "\n",
    "df['Q1Size'] = df['Q1Size'].str.strip()\n",
    "df['Q1Size'] = df['Q1Size'].str.upper() \n",
    "\n",
    "df['Q2Country'] = df['Q2Country'].str.strip()\n",
    "df['Q2Country'] = df['Q2Country'].str.upper()\n",
    "\n",
    "df['Q4NumberPeople'] = df['Q4NumberPeople'].str.strip()\n",
    "df['Q4NumberPeople'] = df['Q4NumberPeople'].str.upper()\n",
    "\n",
    "df['Q5Age'] = df['Q5Age'].str.strip()\n",
    "df['Q5Age'] = df['Q5Age'].str.upper()\n",
    "\n",
    "df['CodeRole'] = df['CodeRole'].str.strip()\n",
    "df['CodeRole'] = df['CodeRole'].str.upper()\n",
    "\n",
    "df['Q8DevProcess'] = df['Q8DevProcess'].str.strip()\n",
    "df['Q8DevProcess'] = df['Q8DevProcess'].str.upper()"
   ]
  },
  {
   "cell_type": "markdown",
   "metadata": {},
   "source": [
    "## GETTING LIST OF CAUSES PER ROLE"
   ]
  },
  {
   "cell_type": "code",
   "execution_count": 13,
   "metadata": {},
   "outputs": [],
   "source": [
    "series = pd.DataFrame(df['CodeCauses'].str.split('\\n').tolist()).stack()\n",
    "series.index = series.index.droplevel(1)"
   ]
  },
  {
   "cell_type": "code",
   "execution_count": 14,
   "metadata": {},
   "outputs": [
    {
     "data": {
      "text/plain": [
       "DEADLINE                                             105\n",
       "INAPPROPRIATE PLANNING                                57\n",
       "NOT EFFECTIVE PROJECT MANAGEMENT                      57\n",
       "FOCUS ON PRODUCING MORE AT THE EXPENSE OF QUALITY     50\n",
       "LACK OF QUALIFIED PROFESSIONALS                       48\n",
       "dtype: int64"
      ]
     },
     "execution_count": 14,
     "metadata": {},
     "output_type": "execute_result"
    }
   ],
   "source": [
    "series_ = series.value_counts()\n",
    "series_.head(5)"
   ]
  },
  {
   "cell_type": "code",
   "execution_count": 15,
   "metadata": {},
   "outputs": [
    {
     "data": {
      "text/plain": [
       "(119,)"
      ]
     },
     "execution_count": 15,
     "metadata": {},
     "output_type": "execute_result"
    }
   ],
   "source": [
    "series_.shape"
   ]
  },
  {
   "cell_type": "markdown",
   "metadata": {},
   "source": [
    "### TECHNICAL"
   ]
  },
  {
   "cell_type": "code",
   "execution_count": 16,
   "metadata": {},
   "outputs": [],
   "source": [
    "dfTECHNICAL = df[df['CodeRole']=='TECHNICAL']\n",
    "\n",
    "seriesTECHNICAL = pd.DataFrame(dfTECHNICAL['CodeCauses'].str.split('\\n').tolist()).stack()\n",
    "seriesTECHNICAL.index = seriesTECHNICAL.index.droplevel(1)"
   ]
  },
  {
   "cell_type": "code",
   "execution_count": 17,
   "metadata": {},
   "outputs": [
    {
     "data": {
      "text/plain": [
       "733"
      ]
     },
     "execution_count": 17,
     "metadata": {},
     "output_type": "execute_result"
    }
   ],
   "source": [
    "seriesTECHNICAL_ = seriesTECHNICAL.value_counts()\n",
    "seriesTECHNICAL_.sum()"
   ]
  },
  {
   "cell_type": "code",
   "execution_count": 18,
   "metadata": {},
   "outputs": [
    {
     "data": {
      "text/plain": [
       "DEADLINE                                             69\n",
       "INAPPROPRIATE PLANNING                               33\n",
       "NOT EFFECTIVE PROJECT MANAGEMENT                     29\n",
       "FOCUS ON PRODUCING MORE AT THE EXPENSE OF QUALITY    27\n",
       "LACK OF QUALIFIED PROFESSIONALS                      26\n",
       "dtype: int64"
      ]
     },
     "execution_count": 18,
     "metadata": {},
     "output_type": "execute_result"
    }
   ],
   "source": [
    "seriesTECHNICAL_.head(5)"
   ]
  },
  {
   "cell_type": "markdown",
   "metadata": {},
   "source": [
    "### ARCHITECT"
   ]
  },
  {
   "cell_type": "code",
   "execution_count": 19,
   "metadata": {},
   "outputs": [],
   "source": [
    "dfARCHITECT = df[df['CodeRole']=='ARCHITECT']\n",
    "\n",
    "seriesARCHITECT = pd.DataFrame(dfARCHITECT['CodeCauses'].str.split('\\n').tolist()).stack()\n",
    "seriesARCHITECT.index = seriesARCHITECT.index.droplevel(1)"
   ]
  },
  {
   "cell_type": "code",
   "execution_count": 20,
   "metadata": {},
   "outputs": [
    {
     "data": {
      "text/plain": [
       "221"
      ]
     },
     "execution_count": 20,
     "metadata": {},
     "output_type": "execute_result"
    }
   ],
   "source": [
    "seriesARCHITECT_ = seriesARCHITECT.value_counts()\n",
    "seriesARCHITECT_.sum()"
   ]
  },
  {
   "cell_type": "code",
   "execution_count": 21,
   "metadata": {},
   "outputs": [
    {
     "data": {
      "text/plain": [
       "INAPPROPRIATE PLANNING                               15\n",
       "DEADLINE                                             15\n",
       "FOCUS ON PRODUCING MORE AT THE EXPENSE OF QUALITY    14\n",
       "NOT EFFECTIVE PROJECT MANAGEMENT                     12\n",
       "LACK OF QUALIFIED PROFESSIONALS                      10\n",
       "dtype: int64"
      ]
     },
     "execution_count": 21,
     "metadata": {},
     "output_type": "execute_result"
    }
   ],
   "source": [
    "seriesARCHITECT_.head(5)"
   ]
  },
  {
   "cell_type": "markdown",
   "metadata": {},
   "source": [
    "### MANAGEMENT"
   ]
  },
  {
   "cell_type": "code",
   "execution_count": 22,
   "metadata": {},
   "outputs": [],
   "source": [
    "dfMANAGEMENT = df[df['CodeRole']=='MANAGEMENT']\n",
    "\n",
    "seriesMANAGEMENT = pd.DataFrame(dfMANAGEMENT['CodeCauses'].str.split('\\n').tolist()).stack()\n",
    "seriesMANAGEMENT.index = seriesMANAGEMENT.index.droplevel(1)"
   ]
  },
  {
   "cell_type": "code",
   "execution_count": 23,
   "metadata": {},
   "outputs": [
    {
     "data": {
      "text/plain": [
       "268"
      ]
     },
     "execution_count": 23,
     "metadata": {},
     "output_type": "execute_result"
    }
   ],
   "source": [
    "seriesMANAGEMENT_ = seriesMANAGEMENT.value_counts()\n",
    "seriesMANAGEMENT_.sum()"
   ]
  },
  {
   "cell_type": "code",
   "execution_count": 24,
   "metadata": {},
   "outputs": [
    {
     "data": {
      "text/plain": [
       "DEADLINE                                             21\n",
       "NOT EFFECTIVE PROJECT MANAGEMENT                     16\n",
       "LACK OF QUALIFIED PROFESSIONALS                      12\n",
       "FOCUS ON PRODUCING MORE AT THE EXPENSE OF QUALITY     9\n",
       "INAPPROPRIATE PLANNING                                9\n",
       "dtype: int64"
      ]
     },
     "execution_count": 24,
     "metadata": {},
     "output_type": "execute_result"
    }
   ],
   "source": [
    "seriesMANAGEMENT_.head(5)"
   ]
  },
  {
   "cell_type": "markdown",
   "metadata": {},
   "source": [
    "### TO_CSV"
   ]
  },
  {
   "cell_type": "code",
   "execution_count": 24,
   "metadata": {},
   "outputs": [],
   "source": [
    "#seriesMANAGEMENT_.to_csv(index=True)"
   ]
  },
  {
   "cell_type": "code",
   "execution_count": 25,
   "metadata": {},
   "outputs": [],
   "source": [
    "#seriesARCHITECT_.to_csv(index=True)"
   ]
  },
  {
   "cell_type": "code",
   "execution_count": 26,
   "metadata": {},
   "outputs": [],
   "source": [
    "#seriesTECHNICAL_.to_csv(index=True)"
   ]
  }
 ],
 "metadata": {
  "kernelspec": {
   "display_name": "Python 3",
   "language": "python",
   "name": "python3"
  },
  "language_info": {
   "codemirror_mode": {
    "name": "ipython",
    "version": 3
   },
   "file_extension": ".py",
   "mimetype": "text/x-python",
   "name": "python",
   "nbconvert_exporter": "python",
   "pygments_lexer": "ipython3",
   "version": "3.7.4"
  }
 },
 "nbformat": 4,
 "nbformat_minor": 2
}
