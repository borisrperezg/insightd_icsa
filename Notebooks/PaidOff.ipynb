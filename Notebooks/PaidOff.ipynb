{
 "cells": [
  {
   "cell_type": "code",
   "execution_count": 1,
   "metadata": {},
   "outputs": [],
   "source": [
    "import pandas as pd\n",
    "import matplotlib.pyplot as plt\n",
    "\n",
    "pd.set_option('display.max_rows', 500)"
   ]
  },
  {
   "cell_type": "code",
   "execution_count": 2,
   "metadata": {},
   "outputs": [],
   "source": [
    "df = pd.read_excel (r'../eclipse-workspace/processinginsightd_datasource/InsighTD-Respuestas(BR-CH-CO-US).xlsx')"
   ]
  },
  {
   "cell_type": "code",
   "execution_count": 3,
   "metadata": {},
   "outputs": [
    {
     "data": {
      "text/plain": [
       "432"
      ]
     },
     "execution_count": 3,
     "metadata": {},
     "output_type": "execute_result"
    }
   ],
   "source": [
    "df.shape[0]"
   ]
  },
  {
   "cell_type": "code",
   "execution_count": 4,
   "metadata": {},
   "outputs": [],
   "source": [
    "df.rename(columns={ df.columns[0]: \"Q1Size\" }, inplace = True)\n",
    "df.rename(columns={ df.columns[1]: \"Q2Country\" }, inplace = True)\n",
    "df.rename(columns={ df.columns[2]: \"Q3LOC\" }, inplace = True)\n",
    "df.rename(columns={ df.columns[3]: \"Q4NumberPeople\" }, inplace = True)\n",
    "df.rename(columns={ df.columns[4]: \"Q5Age\" }, inplace = True)\n",
    "df.rename(columns={ df.columns[5]: \"Q6Role\" }, inplace = True)\n",
    "df.rename(columns={ df.columns[6]: \"CodeRole\" }, inplace = True)\n",
    "df.rename(columns={ df.columns[7]: \"Q7Experience\" }, inplace = True)\n",
    "df.rename(columns={ df.columns[8]: \"Q8DevProcess\" }, inplace = True)\n",
    "df.rename(columns={ df.columns[9]: \"Q13Example\" }, inplace = True)\n",
    "df.rename(columns={ df.columns[10]: \"ExampleTDType\" }, inplace = True)\n",
    "df.rename(columns={ df.columns[11]: \"Q15ExampleRepresentative\" }, inplace = True)\n",
    "df.rename(columns={ df.columns[12]: \"CodeCauses\" }, inplace = True)\n",
    "df.rename(columns={ df.columns[13]: \"Q24WasDebtMonitored\" }, inplace = True)\n",
    "df.rename(columns={ df.columns[14]: \"Q25HowMonitored\" }, inplace = True)\n",
    "df.rename(columns={ df.columns[15]: \"CodeMonitored\" }, inplace = True)\n",
    "df.rename(columns={ df.columns[16]: \"Q26WasDebtPaidOff\" }, inplace = True)\n",
    "df.rename(columns={ df.columns[17]: \"Q27HowPaidOff\" }, inplace = True)\n",
    "df.rename(columns={ df.columns[18]: \"CodePayOff\" }, inplace = True)\n",
    "df.rename(columns={ df.columns[19]: \"FinalRepayCode\" }, inplace = True)\n",
    "df.rename(columns={ df.columns[20]: \"Q28HowPrevent\" }, inplace = True)\n",
    "df.rename(columns={ df.columns[21]: \"CodePrevent\" }, inplace = True)"
   ]
  },
  {
   "cell_type": "code",
   "execution_count": 5,
   "metadata": {},
   "outputs": [],
   "source": [
    "#list(df.columns) "
   ]
  },
  {
   "cell_type": "markdown",
   "metadata": {},
   "source": [
    "## REPLACING VALUES OF THE ROWS"
   ]
  },
  {
   "cell_type": "code",
   "execution_count": 6,
   "metadata": {},
   "outputs": [],
   "source": [
    "df['Q1Size'].replace(['1-10 empleados', '1-10 funcionários'], '1-10 employees', inplace=True)\n",
    "df['Q1Size'].replace(['11-50 empleados', '11-50 funcionários'], '11-50 employees', inplace=True)\n",
    "df['Q1Size'].replace(['51-250 empleados', '51-250 funcionários'], '51-250 employees', inplace=True)\n",
    "df['Q1Size'].replace(['251-500 empleados', '251-500 funcionários'], '251-500 employees', inplace=True)\n",
    "df['Q1Size'].replace(['501-1000 empleados', '501-1000 funcionários'], '501-1000 employees', inplace=True)\n",
    "df['Q1Size'].replace(['1001-2000 empleados', '1001-2000 funcionários'], '1001-2000 employees', inplace=True)\n",
    "df['Q1Size'].replace(['mas de 2000 empleados', 'mais que 2000 funcionários'], 'more than 2000 employees', inplace=True)"
   ]
  },
  {
   "cell_type": "code",
   "execution_count": 7,
   "metadata": {},
   "outputs": [],
   "source": [
    "df['Q4NumberPeople'].replace(['Menos de 5 personas', 'Menos que 5 pessoas'], 'Less than 5 people', inplace=True)\n",
    "df['Q4NumberPeople'].replace(['5-9 personas', '5-9 pessoas'], '5-9 people', inplace=True)\n",
    "df['Q4NumberPeople'].replace(['10-20 personas', '10-20 pessoas'], '10-20 people', inplace=True)\n",
    "df['Q4NumberPeople'].replace(['21-30 personas', '21-30 pessoas'], '21-30 people', inplace=True)\n",
    "df['Q4NumberPeople'].replace(['Más de 30 personas', 'Mais que 30 pessoas'], 'More than 30 people', inplace=True)"
   ]
  },
  {
   "cell_type": "code",
   "execution_count": 8,
   "metadata": {},
   "outputs": [],
   "source": [
    "df['Q5Age'].replace(['Menos de 1 año', 'Menos que 1 ano'], 'Less than 1 year', inplace=True)\n",
    "df['Q5Age'].replace(['1-2 años', '1-2 anos'], '1-2 years', inplace=True)\n",
    "df['Q5Age'].replace(['2-5 años', '2-5 anos'], '2-5 years', inplace=True)\n",
    "df['Q5Age'].replace(['5-10 años', '5-10 anos'], '5-10 years', inplace=True)\n",
    "df['Q5Age'].replace(['Más de 10 años', 'Mais que 10 anos'], 'More than 10 years', inplace=True)"
   ]
  },
  {
   "cell_type": "code",
   "execution_count": 9,
   "metadata": {},
   "outputs": [],
   "source": [
    "df['Q7Experience'].replace(['Competente (Buen conocimiento laboral y de fondo del área de práctica)', 'Competente'], 'Competent', inplace=True)\n",
    "df['Q7Experience'].replace(['Proficiente (Profundo entendimiento de la disciplina y del área de práctica)', 'Proficiente'], 'Proficient', inplace=True)\n",
    "df['Q7Experience'].replace(['Experto (Conocimiento autoritativo de la disciplina y un entendimiento profundo al rededor del área de práctica)', 'Especialista'], 'Expert', inplace=True)\n",
    "df['Q7Experience'].replace(['Principiante (Conocimiento laboral de los aspectos claves del área de práctica)', 'Iniciante'], 'Beginner', inplace=True)\n",
    "df['Q7Experience'].replace(['Novato (Conocimiento mínimo o teórico sin conectarlo a la práctica)', 'Novato'], 'Novice', inplace=True)"
   ]
  },
  {
   "cell_type": "code",
   "execution_count": 10,
   "metadata": {},
   "outputs": [],
   "source": [
    "df['Q8DevProcess'].replace(['Híbrido (es la combinación de métodos ágiles con otras técnicas no ágiles. Por ejemplo, un esfuerzo para detallar requisitos, seguido de sprints de entrega incremental)', 'Híbrido'], 'Hybrid', inplace=True)\n",
    "df['Q8DevProcess'].replace(['Ágil (un proceso ligero que promueve el desarrollo iterativo, la estrecha colaboración entre el equipo de desarrollo y el negocio, la comunicación constante y los equipos muy cohesionados).', 'Ágil'], 'Agile', inplace=True)\n",
    "df['Q8DevProcess'].replace(['Tradicional (métodos convencionales de desarrollo de software basados en documentos que pueden caracterizarse como planificación extensiva, estandarización de las etapas de desarrollo, comunicación formalizada, documentación significativa y diseño de up-front).', 'Tradicional'], 'Traditional', inplace=True)"
   ]
  },
  {
   "cell_type": "code",
   "execution_count": 11,
   "metadata": {},
   "outputs": [],
   "source": [
    "df['Q26WasDebtPaidOff'].replace(['Sí', 'Sim'], 'Yes', inplace=True)"
   ]
  },
  {
   "cell_type": "markdown",
   "metadata": {},
   "source": [
    "## TRANSFORMING EVERYTHING TO UPPERCASE"
   ]
  },
  {
   "cell_type": "code",
   "execution_count": 17,
   "metadata": {},
   "outputs": [],
   "source": [
    "df['CodeCauses'] = df['CodeCauses'].str.strip()\n",
    "df['CodeCauses'] = df['CodeCauses'].str.upper() \n",
    "\n",
    "df['Q1Size'] = df['Q1Size'].str.strip()\n",
    "df['Q1Size'] = df['Q1Size'].str.upper() \n",
    "\n",
    "df['Q2Country'] = df['Q2Country'].str.strip()\n",
    "df['Q2Country'] = df['Q2Country'].str.upper()\n",
    "\n",
    "df['Q4NumberPeople'] = df['Q4NumberPeople'].str.strip()\n",
    "df['Q4NumberPeople'] = df['Q4NumberPeople'].str.upper()\n",
    "\n",
    "df['Q5Age'] = df['Q5Age'].str.strip()\n",
    "df['Q5Age'] = df['Q5Age'].str.upper()\n",
    "\n",
    "df['CodeRole'] = df['CodeRole'].str.strip()\n",
    "df['CodeRole'] = df['CodeRole'].str.upper()\n",
    "\n",
    "df['FinalRepayCode'] = df['FinalRepayCode'].str.strip()\n",
    "df['FinalRepayCode'] = df['FinalRepayCode'].str.upper()\n",
    "\n",
    "df['Q26WasDebtPaidOff'] = df['Q26WasDebtPaidOff'].str.strip()\n",
    "df['Q26WasDebtPaidOff'] = df['Q26WasDebtPaidOff'].str.upper()\n",
    "\n",
    "df['Q8DevProcess'] = df['Q8DevProcess'].str.strip()\n",
    "df['Q8DevProcess'] = df['Q8DevProcess'].str.upper()"
   ]
  },
  {
   "cell_type": "markdown",
   "metadata": {},
   "source": [
    "## GETTING LIST OF REPAYMENT PRACTICES PER ROLE"
   ]
  },
  {
   "cell_type": "code",
   "execution_count": 18,
   "metadata": {},
   "outputs": [],
   "source": [
    "# Filter practices only if debt was paid off\n",
    "dfPractices = df[df['Q26WasDebtPaidOff']=='YES']"
   ]
  },
  {
   "cell_type": "code",
   "execution_count": 19,
   "metadata": {},
   "outputs": [
    {
     "data": {
      "text/html": [
       "<div>\n",
       "<style scoped>\n",
       "    .dataframe tbody tr th:only-of-type {\n",
       "        vertical-align: middle;\n",
       "    }\n",
       "\n",
       "    .dataframe tbody tr th {\n",
       "        vertical-align: top;\n",
       "    }\n",
       "\n",
       "    .dataframe thead th {\n",
       "        text-align: right;\n",
       "    }\n",
       "</style>\n",
       "<table border=\"1\" class=\"dataframe\">\n",
       "  <thead>\n",
       "    <tr style=\"text-align: right;\">\n",
       "      <th></th>\n",
       "      <th>Q1Size</th>\n",
       "      <th>Q2Country</th>\n",
       "      <th>Q3LOC</th>\n",
       "      <th>Q4NumberPeople</th>\n",
       "      <th>Q5Age</th>\n",
       "      <th>Q6Role</th>\n",
       "      <th>CodeRole</th>\n",
       "      <th>Q7Experience</th>\n",
       "      <th>Q8DevProcess</th>\n",
       "      <th>Q13Example</th>\n",
       "      <th>...</th>\n",
       "      <th>CodeCauses</th>\n",
       "      <th>Q24WasDebtMonitored</th>\n",
       "      <th>Q25HowMonitored</th>\n",
       "      <th>CodeMonitored</th>\n",
       "      <th>Q26WasDebtPaidOff</th>\n",
       "      <th>Q27HowPaidOff</th>\n",
       "      <th>CodePayOff</th>\n",
       "      <th>FinalRepayCode</th>\n",
       "      <th>Q28HowPrevent</th>\n",
       "      <th>CodePrevent</th>\n",
       "    </tr>\n",
       "  </thead>\n",
       "  <tbody>\n",
       "    <tr>\n",
       "      <td>0</td>\n",
       "      <td>51-250 EMPLOYEES</td>\n",
       "      <td>UNITED STATES OF AMERICA (USA)</td>\n",
       "      <td>10–100KLOC</td>\n",
       "      <td>5-9 PEOPLE</td>\n",
       "      <td>2-5 YEARS</td>\n",
       "      <td>Developer</td>\n",
       "      <td>TECHNICAL</td>\n",
       "      <td>Expert</td>\n",
       "      <td>HYBRID</td>\n",
       "      <td>Our project's test architecture is currently \"...</td>\n",
       "      <td>...</td>\n",
       "      <td>DEADLINE\\nTEST NOT PERFORMED</td>\n",
       "      <td>Yes</td>\n",
       "      <td>The managers informed us of the issue.</td>\n",
       "      <td>Team communitation on TD item</td>\n",
       "      <td>YES</td>\n",
       "      <td>(1) Stop everything and fix (2) Halt productio...</td>\n",
       "      <td>Stop activities to pay the debt off\\nHalt prod...</td>\n",
       "      <td>REPAYMENT ACTIVITIES\\nTIME EXTENSION\\nRESTORE ...</td>\n",
       "      <td>I am not in a manager role at my company, so u...</td>\n",
       "      <td>Code evaluation</td>\n",
       "    </tr>\n",
       "    <tr>\n",
       "      <td>2</td>\n",
       "      <td>MORE THAN 2000 EMPLOYEES</td>\n",
       "      <td>UNITED STATES OF AMERICA (USA)</td>\n",
       "      <td>10+ MLOC</td>\n",
       "      <td>MORE THAN 30 PEOPLE</td>\n",
       "      <td>MORE THAN 10 YEARS</td>\n",
       "      <td>Software Development VP</td>\n",
       "      <td>TECHNICAL</td>\n",
       "      <td>Expert</td>\n",
       "      <td>HYBRID</td>\n",
       "      <td>We failed to remove Java applets in a timely-e...</td>\n",
       "      <td>...</td>\n",
       "      <td>FOCUS ON PRODUCING MORE AT THE EXPENSE OF QUAL...</td>\n",
       "      <td>Yes</td>\n",
       "      <td>Keep a list of all TD and regullarly determine...</td>\n",
       "      <td>Backlog item\\nPlanning strategy</td>\n",
       "      <td>YES</td>\n",
       "      <td>The needed changes were made.</td>\n",
       "      <td>Perform needed changes</td>\n",
       "      <td>REPAYMENT ACTIVITIES</td>\n",
       "      <td>Empowered entire team to address technical deb...</td>\n",
       "      <td>Training on TD</td>\n",
       "    </tr>\n",
       "    <tr>\n",
       "      <td>3</td>\n",
       "      <td>251-500 EMPLOYEES</td>\n",
       "      <td>UNITED STATES OF AMERICA (USA)</td>\n",
       "      <td>10+ MLOC</td>\n",
       "      <td>MORE THAN 30 PEOPLE</td>\n",
       "      <td>2-5 YEARS</td>\n",
       "      <td>Software Architect</td>\n",
       "      <td>ARCHITECT</td>\n",
       "      <td>Expert</td>\n",
       "      <td>AGILE</td>\n",
       "      <td>Tests planned but not executed</td>\n",
       "      <td>...</td>\n",
       "      <td>NO BUG FIXES</td>\n",
       "      <td>Yes</td>\n",
       "      <td>To have the user story and prioritize it</td>\n",
       "      <td>TD Stories\\nPriorization of TD items</td>\n",
       "      <td>YES</td>\n",
       "      <td>To make it solid and defect free system</td>\n",
       "      <td>To make defect free system</td>\n",
       "      <td>TO MAKE DEFECT FREE SYSTEM</td>\n",
       "      <td>Proactive and continuous review and monitoring</td>\n",
       "      <td>Code evaluation\\nEffective monitoring</td>\n",
       "    </tr>\n",
       "    <tr>\n",
       "      <td>7</td>\n",
       "      <td>MORE THAN 2000 EMPLOYEES</td>\n",
       "      <td>UNITED STATES OF AMERICA (USA)</td>\n",
       "      <td>1–10MLOC</td>\n",
       "      <td>5-9 PEOPLE</td>\n",
       "      <td>5-10 YEARS</td>\n",
       "      <td>Developer</td>\n",
       "      <td>TECHNICAL</td>\n",
       "      <td>Proficient</td>\n",
       "      <td>AGILE</td>\n",
       "      <td>Old test code that had not been refactored in ...</td>\n",
       "      <td>...</td>\n",
       "      <td>LACK OF PRIORITY FOR THE PROJECT\\nLACK OF EXPE...</td>\n",
       "      <td>Yes</td>\n",
       "      <td>By automating the process which brought proble...</td>\n",
       "      <td>Automating the process</td>\n",
       "      <td>YES</td>\n",
       "      <td>The testing is more accurate and any new debt ...</td>\n",
       "      <td>Improve test activities</td>\n",
       "      <td>IMPROVE TESTING</td>\n",
       "      <td>Trying to automate or create processes that al...</td>\n",
       "      <td>Implementation of a TD identification strategy...</td>\n",
       "    </tr>\n",
       "    <tr>\n",
       "      <td>8</td>\n",
       "      <td>MORE THAN 2000 EMPLOYEES</td>\n",
       "      <td>UNITED STATES OF AMERICA (USA)</td>\n",
       "      <td>less than 10KLOC</td>\n",
       "      <td>LESS THAN 5 PEOPLE</td>\n",
       "      <td>2-5 YEARS</td>\n",
       "      <td>Developer</td>\n",
       "      <td>TECHNICAL</td>\n",
       "      <td>Expert</td>\n",
       "      <td>HYBRID</td>\n",
       "      <td>Reworking the code to fit different deployment...</td>\n",
       "      <td>...</td>\n",
       "      <td>LACK OF INFORMATION\\nREQUIREMENTS ELICITATION ...</td>\n",
       "      <td>No</td>\n",
       "      <td>The source code was re-engineered to work at a...</td>\n",
       "      <td>Not a monitoring strategy</td>\n",
       "      <td>YES</td>\n",
       "      <td>The limitation that caused the debit item was ...</td>\n",
       "      <td>Fixing the limitation causes of TD items</td>\n",
       "      <td>REPAYMENT ACTIVITIES</td>\n",
       "      <td>I plan my code projects prior to beginning cod...</td>\n",
       "      <td>Upfront design of the project\\nEvaluation of t...</td>\n",
       "    </tr>\n",
       "  </tbody>\n",
       "</table>\n",
       "<p>5 rows × 22 columns</p>\n",
       "</div>"
      ],
      "text/plain": [
       "                     Q1Size                       Q2Country             Q3LOC  \\\n",
       "0          51-250 EMPLOYEES  UNITED STATES OF AMERICA (USA)        10–100KLOC   \n",
       "2  MORE THAN 2000 EMPLOYEES  UNITED STATES OF AMERICA (USA)          10+ MLOC   \n",
       "3         251-500 EMPLOYEES  UNITED STATES OF AMERICA (USA)          10+ MLOC   \n",
       "7  MORE THAN 2000 EMPLOYEES  UNITED STATES OF AMERICA (USA)          1–10MLOC   \n",
       "8  MORE THAN 2000 EMPLOYEES  UNITED STATES OF AMERICA (USA)  less than 10KLOC   \n",
       "\n",
       "        Q4NumberPeople               Q5Age                   Q6Role  \\\n",
       "0           5-9 PEOPLE           2-5 YEARS                Developer   \n",
       "2  MORE THAN 30 PEOPLE  MORE THAN 10 YEARS  Software Development VP   \n",
       "3  MORE THAN 30 PEOPLE           2-5 YEARS       Software Architect   \n",
       "7           5-9 PEOPLE          5-10 YEARS                Developer   \n",
       "8   LESS THAN 5 PEOPLE           2-5 YEARS                Developer   \n",
       "\n",
       "    CodeRole Q7Experience Q8DevProcess  \\\n",
       "0  TECHNICAL       Expert       HYBRID   \n",
       "2  TECHNICAL       Expert       HYBRID   \n",
       "3  ARCHITECT       Expert        AGILE   \n",
       "7  TECHNICAL   Proficient        AGILE   \n",
       "8  TECHNICAL       Expert       HYBRID   \n",
       "\n",
       "                                          Q13Example  ...  \\\n",
       "0  Our project's test architecture is currently \"...  ...   \n",
       "2  We failed to remove Java applets in a timely-e...  ...   \n",
       "3                     Tests planned but not executed  ...   \n",
       "7  Old test code that had not been refactored in ...  ...   \n",
       "8  Reworking the code to fit different deployment...  ...   \n",
       "\n",
       "                                          CodeCauses Q24WasDebtMonitored  \\\n",
       "0                       DEADLINE\\nTEST NOT PERFORMED                 Yes   \n",
       "2  FOCUS ON PRODUCING MORE AT THE EXPENSE OF QUAL...                 Yes   \n",
       "3                                       NO BUG FIXES                 Yes   \n",
       "7  LACK OF PRIORITY FOR THE PROJECT\\nLACK OF EXPE...                 Yes   \n",
       "8  LACK OF INFORMATION\\nREQUIREMENTS ELICITATION ...                  No   \n",
       "\n",
       "                                     Q25HowMonitored  \\\n",
       "0             The managers informed us of the issue.   \n",
       "2  Keep a list of all TD and regullarly determine...   \n",
       "3           To have the user story and prioritize it   \n",
       "7  By automating the process which brought proble...   \n",
       "8  The source code was re-engineered to work at a...   \n",
       "\n",
       "                          CodeMonitored Q26WasDebtPaidOff  \\\n",
       "0         Team communitation on TD item               YES   \n",
       "2      Backlog item\\nPlanning strategy                YES   \n",
       "3  TD Stories\\nPriorization of TD items               YES   \n",
       "7                Automating the process               YES   \n",
       "8             Not a monitoring strategy               YES   \n",
       "\n",
       "                                       Q27HowPaidOff  \\\n",
       "0  (1) Stop everything and fix (2) Halt productio...   \n",
       "2                      The needed changes were made.   \n",
       "3            To make it solid and defect free system   \n",
       "7  The testing is more accurate and any new debt ...   \n",
       "8  The limitation that caused the debit item was ...   \n",
       "\n",
       "                                          CodePayOff  \\\n",
       "0  Stop activities to pay the debt off\\nHalt prod...   \n",
       "2                             Perform needed changes   \n",
       "3                         To make defect free system   \n",
       "7                            Improve test activities   \n",
       "8           Fixing the limitation causes of TD items   \n",
       "\n",
       "                                      FinalRepayCode  \\\n",
       "0  REPAYMENT ACTIVITIES\\nTIME EXTENSION\\nRESTORE ...   \n",
       "2                               REPAYMENT ACTIVITIES   \n",
       "3                         TO MAKE DEFECT FREE SYSTEM   \n",
       "7                                    IMPROVE TESTING   \n",
       "8                               REPAYMENT ACTIVITIES   \n",
       "\n",
       "                                       Q28HowPrevent  \\\n",
       "0  I am not in a manager role at my company, so u...   \n",
       "2  Empowered entire team to address technical deb...   \n",
       "3     Proactive and continuous review and monitoring   \n",
       "7  Trying to automate or create processes that al...   \n",
       "8  I plan my code projects prior to beginning cod...   \n",
       "\n",
       "                                         CodePrevent  \n",
       "0                                    Code evaluation  \n",
       "2                                     Training on TD  \n",
       "3              Code evaluation\\nEffective monitoring  \n",
       "7  Implementation of a TD identification strategy...  \n",
       "8  Upfront design of the project\\nEvaluation of t...  \n",
       "\n",
       "[5 rows x 22 columns]"
      ]
     },
     "execution_count": 19,
     "metadata": {},
     "output_type": "execute_result"
    }
   ],
   "source": [
    "dfPractices.head(5)"
   ]
  },
  {
   "cell_type": "code",
   "execution_count": 20,
   "metadata": {},
   "outputs": [],
   "source": [
    "series = pd.DataFrame(dfPractices['FinalRepayCode'].str.split('\\n').tolist()).stack()\n",
    "series.index = series.index.droplevel(1)"
   ]
  },
  {
   "cell_type": "code",
   "execution_count": 38,
   "metadata": {},
   "outputs": [
    {
     "data": {
      "text/plain": [
       "REFACTORING                                                                        58\n",
       "-                                                                                  32\n",
       "IMPROVE TESTING                                                                    14\n",
       "REPAYMENT ACTIVITIES                                                               14\n",
       "ADOPTION OF GOOD PRACTICES                                                         13\n",
       "IMPROVE DESIGN                                                                     13\n",
       "EXTRA EFFORT                                                                       10\n",
       "TIME EXTENSION                                                                     10\n",
       "IMPROVE DOCUMENTATION                                                               8\n",
       "BUDGET INCREASE                                                                     8\n",
       "MANAGEMENT ACTIONS                                                                  7\n",
       "TECHNOLOGY/TOOL/PLATFORM CHANGE                                                     6\n",
       "CODE REVIEWING                                                                      5\n",
       "PROJECT SCOPE CHANGE                                                                5\n",
       "PRIORITIZATION                                                                      4\n",
       "DEFINITION OF SPRINTS FOR THE PAYMENT OF DT                                         4\n",
       "IMPROVEMENT IN REQUIREMENT ELICITATION                                              4\n",
       "WELL-DEFINED PROCESS                                                                3\n",
       "CI/CD                                                                               3\n",
       "EXTERNAL TOOLS                                                                      3\n",
       "CONTROL AND MONITORING                                                              2\n",
       "HIRING QUALIFIED PROFESSIONALS                                                      2\n",
       "CONTINUOS LEARNING                                                                  2\n",
       "ADEQUATE IMPACT AND RISK ANALYSIS                                                   2\n",
       "CHANGE OF PROJECT MANAGEMENT                                                        2\n",
       "ARCHITECTURAL CHANGES                                                               2\n",
       "DEVOPS                                                                              2\n",
       "IMPROVE COMMUNICATION                                                               2\n",
       "APPROACHING THE CLIENT WITH THE DEVELOPMENT TEAM                                    2\n",
       "STARTING THE PROJECT FROM SCRATCH                                                   2\n",
       "BACKLOG INCLUSION                                                                   2\n",
       "TEAM COLLABORATION                                                                  1\n",
       "IMPLEMENTING PREVENTIVE ACTIONS FOR REDUCTION THE OCCURENCE OF SPECIFIC TD ITEM     1\n",
       "CORRECTIVE MAINTENANCE OF ARTIFACTS                                                 1\n",
       "TECHNOLOGY INDEPENDENT IMPLEMENTATION                                               1\n",
       "USE OF MODELS                                                                       1\n",
       "RESTORE LOST DATA FROM BACKUP                                                       1\n",
       "TO MAKE DEFECT FREE SYSTEM                                                          1\n",
       "SYSTEM RETIREMENT                                                                   1\n",
       "SIDE PROJECT                                                                        1\n",
       "CONTINUOUS IMPROVEMENT OF APPLICATIONS                                              1\n",
       "CHECKLIST FOR THE VERIFICATION OF BUSINESS RULES                                    1\n",
       "DIVISION OF WORK LOTS                                                               1\n",
       "MEASUREMENT BULLETINS                                                               1\n",
       "SWITCHING SOFTWARE SOLUTIONS                                                        1\n",
       "ORGANISATION OF THE PROJECT REPOSITORY                                              1\n",
       "SOLVING PROBLEMS RELATED TO SECURITY                                                1\n",
       "dtype: int64"
      ]
     },
     "execution_count": 38,
     "metadata": {},
     "output_type": "execute_result"
    }
   ],
   "source": [
    "series_ = series.value_counts()\n",
    "series_"
   ]
  },
  {
   "cell_type": "code",
   "execution_count": 25,
   "metadata": {},
   "outputs": [
    {
     "data": {
      "text/plain": [
       "262"
      ]
     },
     "execution_count": 25,
     "metadata": {},
     "output_type": "execute_result"
    }
   ],
   "source": [
    "series_.sum()"
   ]
  },
  {
   "cell_type": "markdown",
   "metadata": {},
   "source": [
    "### TECHNICAL"
   ]
  },
  {
   "cell_type": "code",
   "execution_count": 29,
   "metadata": {},
   "outputs": [],
   "source": [
    "dfTECHNICAL = dfPractices[dfPractices['CodeRole']=='TECHNICAL']\n",
    "\n",
    "seriesTECHNICAL = pd.DataFrame(dfTECHNICAL['FinalRepayCode'].str.split('\\n').tolist()).stack()\n",
    "seriesTECHNICAL.index = seriesTECHNICAL.index.droplevel(1)"
   ]
  },
  {
   "cell_type": "code",
   "execution_count": 30,
   "metadata": {},
   "outputs": [
    {
     "data": {
      "text/plain": [
       "134"
      ]
     },
     "execution_count": 30,
     "metadata": {},
     "output_type": "execute_result"
    }
   ],
   "source": [
    "seriesTECHNICAL_ = seriesTECHNICAL.value_counts()\n",
    "seriesTECHNICAL_.sum()"
   ]
  },
  {
   "cell_type": "code",
   "execution_count": 44,
   "metadata": {},
   "outputs": [
    {
     "data": {
      "text/plain": [
       "REFACTORING                                                                        30\n",
       "-                                                                                  22\n",
       "REPAYMENT ACTIVITIES                                                               10\n",
       "IMPROVE TESTING                                                                     9\n",
       "TIME EXTENSION                                                                      5\n",
       "EXTRA EFFORT                                                                        5\n",
       "IMPROVE DOCUMENTATION                                                               5\n",
       "MANAGEMENT ACTIONS                                                                  4\n",
       "ADOPTION OF GOOD PRACTICES                                                          4\n",
       "IMPROVE DESIGN                                                                      4\n",
       "TECHNOLOGY/TOOL/PLATFORM CHANGE                                                     3\n",
       "IMPROVEMENT IN REQUIREMENT ELICITATION                                              3\n",
       "CI/CD                                                                               3\n",
       "DEVOPS                                                                              2\n",
       "CODE REVIEWING                                                                      2\n",
       "DEFINITION OF SPRINTS FOR THE PAYMENT OF DT                                         2\n",
       "PROJECT SCOPE CHANGE                                                                2\n",
       "PRIORITIZATION                                                                      2\n",
       "BUDGET INCREASE                                                                     2\n",
       "EXTERNAL TOOLS                                                                      1\n",
       "USE OF MODELS                                                                       1\n",
       "IMPLEMENTING PREVENTIVE ACTIONS FOR REDUCTION THE OCCURENCE OF SPECIFIC TD ITEM     1\n",
       "ADEQUATE IMPACT AND RISK ANALYSIS                                                   1\n",
       "HIRING QUALIFIED PROFESSIONALS                                                      1\n",
       "CONTINUOS LEARNING                                                                  1\n",
       "RESTORE LOST DATA FROM BACKUP                                                       1\n",
       "BACKLOG INCLUSION                                                                   1\n",
       "CONTINUOUS IMPROVEMENT OF APPLICATIONS                                              1\n",
       "CHANGE OF PROJECT MANAGEMENT                                                        1\n",
       "APPROACHING THE CLIENT WITH THE DEVELOPMENT TEAM                                    1\n",
       "STARTING THE PROJECT FROM SCRATCH                                                   1\n",
       "SWITCHING SOFTWARE SOLUTIONS                                                        1\n",
       "ORGANISATION OF THE PROJECT REPOSITORY                                              1\n",
       "TEAM COLLABORATION                                                                  1\n",
       "dtype: int64"
      ]
     },
     "execution_count": 44,
     "metadata": {},
     "output_type": "execute_result"
    }
   ],
   "source": [
    "seriesTECHNICAL_"
   ]
  },
  {
   "cell_type": "markdown",
   "metadata": {},
   "source": [
    "### ARCHITECT"
   ]
  },
  {
   "cell_type": "code",
   "execution_count": 32,
   "metadata": {},
   "outputs": [],
   "source": [
    "dfARCHITECT = dfPractices[dfPractices['CodeRole']=='ARCHITECT']\n",
    "\n",
    "seriesARCHITECT = pd.DataFrame(dfARCHITECT['FinalRepayCode'].str.split('\\n').tolist()).stack()\n",
    "seriesARCHITECT.index = seriesARCHITECT.index.droplevel(1)"
   ]
  },
  {
   "cell_type": "code",
   "execution_count": 33,
   "metadata": {},
   "outputs": [
    {
     "data": {
      "text/plain": [
       "61"
      ]
     },
     "execution_count": 33,
     "metadata": {},
     "output_type": "execute_result"
    }
   ],
   "source": [
    "seriesARCHITECT_ = seriesARCHITECT.value_counts()\n",
    "seriesARCHITECT_.sum()"
   ]
  },
  {
   "cell_type": "code",
   "execution_count": 43,
   "metadata": {},
   "outputs": [
    {
     "data": {
      "text/plain": [
       "REFACTORING                               16\n",
       "IMPROVE DESIGN                             5\n",
       "ADOPTION OF GOOD PRACTICES                 5\n",
       "-                                          4\n",
       "BUDGET INCREASE                            4\n",
       "EXTRA EFFORT                               4\n",
       "CODE REVIEWING                             3\n",
       "IMPROVE TESTING                            3\n",
       "IMPROVE COMMUNICATION                      2\n",
       "EXTERNAL TOOLS                             2\n",
       "CHANGE OF PROJECT MANAGEMENT               1\n",
       "ARCHITECTURAL CHANGES                      1\n",
       "TECHNOLOGY/TOOL/PLATFORM CHANGE            1\n",
       "REPAYMENT ACTIVITIES                       1\n",
       "IMPROVEMENT IN REQUIREMENT ELICITATION     1\n",
       "TECHNOLOGY INDEPENDENT IMPLEMENTATION      1\n",
       "TO MAKE DEFECT FREE SYSTEM                 1\n",
       "SYSTEM RETIREMENT                          1\n",
       "TIME EXTENSION                             1\n",
       "CONTINUOS LEARNING                         1\n",
       "BACKLOG INCLUSION                          1\n",
       "HIRING QUALIFIED PROFESSIONALS             1\n",
       "CONTROL AND MONITORING                     1\n",
       "dtype: int64"
      ]
     },
     "execution_count": 43,
     "metadata": {},
     "output_type": "execute_result"
    }
   ],
   "source": [
    "seriesARCHITECT_"
   ]
  },
  {
   "cell_type": "markdown",
   "metadata": {},
   "source": [
    "### MANAGEMENT"
   ]
  },
  {
   "cell_type": "code",
   "execution_count": 35,
   "metadata": {},
   "outputs": [],
   "source": [
    "dfMANAGEMENT = dfPractices[dfPractices['CodeRole']=='MANAGEMENT']\n",
    "\n",
    "seriesMANAGEMENT = pd.DataFrame(dfMANAGEMENT['FinalRepayCode'].str.split('\\n').tolist()).stack()\n",
    "seriesMANAGEMENT.index = seriesMANAGEMENT.index.droplevel(1)"
   ]
  },
  {
   "cell_type": "code",
   "execution_count": 36,
   "metadata": {},
   "outputs": [
    {
     "data": {
      "text/plain": [
       "67"
      ]
     },
     "execution_count": 36,
     "metadata": {},
     "output_type": "execute_result"
    }
   ],
   "source": [
    "seriesMANAGEMENT_ = seriesMANAGEMENT.value_counts()\n",
    "seriesMANAGEMENT_.sum()"
   ]
  },
  {
   "cell_type": "code",
   "execution_count": 42,
   "metadata": {},
   "outputs": [
    {
     "data": {
      "text/plain": [
       "REFACTORING                                         12\n",
       "-                                                    6\n",
       "IMPROVE DESIGN                                       4\n",
       "TIME EXTENSION                                       4\n",
       "ADOPTION OF GOOD PRACTICES                           4\n",
       "WELL-DEFINED PROCESS                                 3\n",
       "MANAGEMENT ACTIONS                                   3\n",
       "REPAYMENT ACTIVITIES                                 3\n",
       "PROJECT SCOPE CHANGE                                 3\n",
       "IMPROVE DOCUMENTATION                                3\n",
       "BUDGET INCREASE                                      2\n",
       "PRIORITIZATION                                       2\n",
       "DEFINITION OF SPRINTS FOR THE PAYMENT OF DT          2\n",
       "TECHNOLOGY/TOOL/PLATFORM CHANGE                      2\n",
       "IMPROVE TESTING                                      2\n",
       "CONTROL AND MONITORING                               1\n",
       "ARCHITECTURAL CHANGES                                1\n",
       "EXTRA EFFORT                                         1\n",
       "ADEQUATE IMPACT AND RISK ANALYSIS                    1\n",
       "APPROACHING THE CLIENT WITH THE DEVELOPMENT TEAM     1\n",
       "STARTING THE PROJECT FROM SCRATCH                    1\n",
       "MEASUREMENT BULLETINS                                1\n",
       "SIDE PROJECT                                         1\n",
       "CHECKLIST FOR THE VERIFICATION OF BUSINESS RULES     1\n",
       "CORRECTIVE MAINTENANCE OF ARTIFACTS                  1\n",
       "DIVISION OF WORK LOTS                                1\n",
       "SOLVING PROBLEMS RELATED TO SECURITY                 1\n",
       "dtype: int64"
      ]
     },
     "execution_count": 42,
     "metadata": {},
     "output_type": "execute_result"
    }
   ],
   "source": [
    "seriesMANAGEMENT_"
   ]
  },
  {
   "cell_type": "markdown",
   "metadata": {},
   "source": [
    "### TO_CSV"
   ]
  },
  {
   "cell_type": "code",
   "execution_count": null,
   "metadata": {},
   "outputs": [],
   "source": [
    "#seriesMANAGEMENT_.to_csv(index=True)"
   ]
  },
  {
   "cell_type": "code",
   "execution_count": null,
   "metadata": {},
   "outputs": [],
   "source": [
    "#seriesARCHITECT_.to_csv(index=True)"
   ]
  },
  {
   "cell_type": "code",
   "execution_count": null,
   "metadata": {},
   "outputs": [],
   "source": [
    "#seriesTECHNICAL_.to_csv(index=True)"
   ]
  }
 ],
 "metadata": {
  "kernelspec": {
   "display_name": "Python 3",
   "language": "python",
   "name": "python3"
  },
  "language_info": {
   "codemirror_mode": {
    "name": "ipython",
    "version": 3
   },
   "file_extension": ".py",
   "mimetype": "text/x-python",
   "name": "python",
   "nbconvert_exporter": "python",
   "pygments_lexer": "ipython3",
   "version": "3.7.4"
  }
 },
 "nbformat": 4,
 "nbformat_minor": 2
}
