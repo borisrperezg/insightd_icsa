{
 "cells": [
  {
   "cell_type": "code",
   "execution_count": 1,
   "metadata": {},
   "outputs": [],
   "source": [
    "import pandas as pd\n",
    "import matplotlib.pyplot as plt\n",
    "pd.set_option('display.max_rows', 500)"
   ]
  },
  {
   "cell_type": "code",
   "execution_count": 2,
   "metadata": {},
   "outputs": [],
   "source": [
    "df = pd.read_excel (r'../../../../eclipse-workspace/processinginsightd_datasource/InsighTD-Respuestas(BR-CH-CO-US).xlsx')"
   ]
  },
  {
   "cell_type": "code",
   "execution_count": 3,
   "metadata": {},
   "outputs": [
    {
     "data": {
      "text/plain": [
       "432"
      ]
     },
     "execution_count": 3,
     "metadata": {},
     "output_type": "execute_result"
    }
   ],
   "source": [
    "df.shape[0]"
   ]
  },
  {
   "cell_type": "code",
   "execution_count": 4,
   "metadata": {},
   "outputs": [
    {
     "data": {
      "text/plain": [
       "['1. What is the size of your company?',\n",
       " '2. In which country you are currently working?',\n",
       " '3. What is the size of the system being developed in that project? (LOC)',\n",
       " '4. What is the total number of people of this project?',\n",
       " '5. What is the age of this system up to now or to when your involvement ended?',\n",
       " '6. To which project role are you assigned in this project?',\n",
       " 'CODE Q6',\n",
       " '7. How do you rate your experience in this role (at the time)?',\n",
       " '8. Which of the following most closely describes the development process model you follow on this project?',\n",
       " '13. Please give an example of TD that had a significant impact on the project that you have chosen to tell us about:',\n",
       " 'TD Type',\n",
       " '15. About this example, how representative it is?',\n",
       " 'CODE Q16-18',\n",
       " '24. Once identified, was the debt item monitored?',\n",
       " '25. If yes, how? If not, why? ',\n",
       " 'CODE Q25',\n",
       " '26. Has the debt item been paid off (eliminated) from the project?',\n",
       " '27. If yes, how? If not, why? ',\n",
       " 'CODE Q27',\n",
       " 'NEWREPAYCODE',\n",
       " 'Q28. Considering your personal experience with TD management, what actions have you performed to prevent its occurrence?',\n",
       " 'CODE Q28']"
      ]
     },
     "execution_count": 4,
     "metadata": {},
     "output_type": "execute_result"
    }
   ],
   "source": [
    "list(df.columns) "
   ]
  },
  {
   "cell_type": "code",
   "execution_count": 5,
   "metadata": {},
   "outputs": [],
   "source": [
    "df.rename(columns={ df.columns[0]: \"Q1Size\" }, inplace = True)\n",
    "df.rename(columns={ df.columns[1]: \"Q2Country\" }, inplace = True)\n",
    "df.rename(columns={ df.columns[2]: \"Q3LOC\" }, inplace = True)\n",
    "df.rename(columns={ df.columns[3]: \"Q4NumberPeople\" }, inplace = True)\n",
    "df.rename(columns={ df.columns[4]: \"Q5Age\" }, inplace = True)\n",
    "df.rename(columns={ df.columns[5]: \"Q6Role\" }, inplace = True)\n",
    "df.rename(columns={ df.columns[6]: \"CodeRole\" }, inplace = True)\n",
    "df.rename(columns={ df.columns[7]: \"Q7Experience\" }, inplace = True)\n",
    "df.rename(columns={ df.columns[8]: \"Q8DevProcess\" }, inplace = True)\n",
    "df.rename(columns={ df.columns[9]: \"Q13Example\" }, inplace = True)\n",
    "df.rename(columns={ df.columns[10]: \"ExampleTDType\" }, inplace = True)\n",
    "df.rename(columns={ df.columns[11]: \"Q15ExampleRepresentative\" }, inplace = True)\n",
    "df.rename(columns={ df.columns[12]: \"CodeCauses\" }, inplace = True)\n",
    "df.rename(columns={ df.columns[13]: \"Q24WasDebtMonitored\" }, inplace = True)\n",
    "df.rename(columns={ df.columns[14]: \"Q25HowMonitored\" }, inplace = True)\n",
    "df.rename(columns={ df.columns[15]: \"CodeMonitored\" }, inplace = True)\n",
    "df.rename(columns={ df.columns[16]: \"Q26WasDebtPaidOff\" }, inplace = True)\n",
    "df.rename(columns={ df.columns[17]: \"Q27HowPaidOff\" }, inplace = True)\n",
    "df.rename(columns={ df.columns[18]: \"CodePayOff\" }, inplace = True)\n",
    "df.rename(columns={ df.columns[19]: \"FinalRepayCode\" }, inplace = True)\n",
    "df.rename(columns={ df.columns[20]: \"Q28HowPrevent\" }, inplace = True)\n",
    "df.rename(columns={ df.columns[21]: \"CodePrevent\" }, inplace = True)"
   ]
  },
  {
   "cell_type": "code",
   "execution_count": 6,
   "metadata": {},
   "outputs": [],
   "source": [
    "#list(df.columns) "
   ]
  },
  {
   "cell_type": "markdown",
   "metadata": {},
   "source": [
    "## REPLACING VALUES OF THE ROWS"
   ]
  },
  {
   "cell_type": "code",
   "execution_count": 7,
   "metadata": {},
   "outputs": [],
   "source": [
    "df['Q1Size'].replace(['1-10 empleados', '1-10 funcionários'], '1-10 employees', inplace=True)\n",
    "df['Q1Size'].replace(['11-50 empleados', '11-50 funcionários'], '11-50 employees', inplace=True)\n",
    "df['Q1Size'].replace(['51-250 empleados', '51-250 funcionários'], '51-250 employees', inplace=True)\n",
    "df['Q1Size'].replace(['251-500 empleados', '251-500 funcionários'], '251-500 employees', inplace=True)\n",
    "df['Q1Size'].replace(['501-1000 empleados', '501-1000 funcionários'], '501-1000 employees', inplace=True)\n",
    "df['Q1Size'].replace(['1001-2000 empleados', '1001-2000 funcionários'], '1001-2000 employees', inplace=True)\n",
    "df['Q1Size'].replace(['mas de 2000 empleados', 'mais que 2000 funcionários'], 'more than 2000 employees', inplace=True)"
   ]
  },
  {
   "cell_type": "code",
   "execution_count": 8,
   "metadata": {},
   "outputs": [],
   "source": [
    "df['Q4NumberPeople'].replace(['Menos de 5 personas', 'Menos que 5 pessoas'], 'Less than 5 people', inplace=True)\n",
    "df['Q4NumberPeople'].replace(['5-9 personas', '5-9 pessoas'], '5-9 people', inplace=True)\n",
    "df['Q4NumberPeople'].replace(['10-20 personas', '10-20 pessoas'], '10-20 people', inplace=True)\n",
    "df['Q4NumberPeople'].replace(['21-30 personas', '21-30 pessoas'], '21-30 people', inplace=True)\n",
    "df['Q4NumberPeople'].replace(['Más de 30 personas', 'Mais que 30 pessoas'], 'More than 30 people', inplace=True)"
   ]
  },
  {
   "cell_type": "code",
   "execution_count": 9,
   "metadata": {},
   "outputs": [],
   "source": [
    "df['Q5Age'].replace(['Menos de 1 año', 'Menos que 1 ano'], 'Less than 1 year', inplace=True)\n",
    "df['Q5Age'].replace(['1-2 años', '1-2 anos'], '1-2 years', inplace=True)\n",
    "df['Q5Age'].replace(['2-5 años', '2-5 anos'], '2-5 years', inplace=True)\n",
    "df['Q5Age'].replace(['5-10 años', '5-10 anos'], '5-10 years', inplace=True)\n",
    "df['Q5Age'].replace(['Más de 10 años', 'Mais que 10 anos'], 'More than 10 years', inplace=True)"
   ]
  },
  {
   "cell_type": "code",
   "execution_count": 10,
   "metadata": {},
   "outputs": [],
   "source": [
    "df['Q7Experience'].replace(['Competente (Buen conocimiento laboral y de fondo del área de práctica)', 'Competente'], 'Competent', inplace=True)\n",
    "df['Q7Experience'].replace(['Proficiente (Profundo entendimiento de la disciplina y del área de práctica)', 'Proficiente'], 'Proficient', inplace=True)\n",
    "df['Q7Experience'].replace(['Experto (Conocimiento autoritativo de la disciplina y un entendimiento profundo al rededor del área de práctica)', 'Especialista'], 'Expert', inplace=True)\n",
    "df['Q7Experience'].replace(['Principiante (Conocimiento laboral de los aspectos claves del área de práctica)', 'Iniciante'], 'Beginner', inplace=True)\n",
    "df['Q7Experience'].replace(['Novato (Conocimiento mínimo o teórico sin conectarlo a la práctica)', 'Novato'], 'Novice', inplace=True)"
   ]
  },
  {
   "cell_type": "code",
   "execution_count": 11,
   "metadata": {},
   "outputs": [],
   "source": [
    "df['Q8DevProcess'].replace(['Híbrido (es la combinación de métodos ágiles con otras técnicas no ágiles. Por ejemplo, un esfuerzo para detallar requisitos, seguido de sprints de entrega incremental)', 'Híbrido'], 'Hybrid', inplace=True)\n",
    "df['Q8DevProcess'].replace(['Ágil (un proceso ligero que promueve el desarrollo iterativo, la estrecha colaboración entre el equipo de desarrollo y el negocio, la comunicación constante y los equipos muy cohesionados).', 'Ágil'], 'Agile', inplace=True)\n",
    "df['Q8DevProcess'].replace(['Tradicional (métodos convencionales de desarrollo de software basados en documentos que pueden caracterizarse como planificación extensiva, estandarización de las etapas de desarrollo, comunicación formalizada, documentación significativa y diseño de up-front).', 'Tradicional'], 'Traditional', inplace=True)\n",
    "df['Q8DevProcess'].replace(['', ''], '', inplace=True)"
   ]
  },
  {
   "cell_type": "markdown",
   "metadata": {},
   "source": [
    "## TRANSFORMING EVERYTHING TO UPPERCASE"
   ]
  },
  {
   "cell_type": "code",
   "execution_count": 12,
   "metadata": {},
   "outputs": [],
   "source": [
    "df['CodeCauses'] = df['CodeCauses'].str.strip()\n",
    "df['CodeCauses'] = df['CodeCauses'].str.upper() \n",
    "\n",
    "df['Q1Size'] = df['Q1Size'].str.strip()\n",
    "df['Q1Size'] = df['Q1Size'].str.upper() \n",
    "\n",
    "df['Q2Country'] = df['Q2Country'].str.strip()\n",
    "df['Q2Country'] = df['Q2Country'].str.upper()\n",
    "\n",
    "df['Q4NumberPeople'] = df['Q4NumberPeople'].str.strip()\n",
    "df['Q4NumberPeople'] = df['Q4NumberPeople'].str.upper()\n",
    "\n",
    "df['Q5Age'] = df['Q5Age'].str.strip()\n",
    "df['Q5Age'] = df['Q5Age'].str.upper()\n",
    "\n",
    "df['CodeRole'] = df['CodeRole'].str.strip()\n",
    "df['CodeRole'] = df['CodeRole'].str.upper()\n",
    "\n",
    "df['Q8DevProcess'] = df['Q8DevProcess'].str.strip()\n",
    "df['Q8DevProcess'] = df['Q8DevProcess'].str.upper()"
   ]
  },
  {
   "cell_type": "markdown",
   "metadata": {},
   "source": [
    "## GETTING COUNTS PER COLUMN"
   ]
  },
  {
   "cell_type": "code",
   "execution_count": 16,
   "metadata": {},
   "outputs": [
    {
     "data": {
      "text/plain": [
       "432"
      ]
     },
     "execution_count": 16,
     "metadata": {},
     "output_type": "execute_result"
    }
   ],
   "source": [
    "df.CodeRole.value_counts().sum()"
   ]
  },
  {
   "cell_type": "code",
   "execution_count": 13,
   "metadata": {},
   "outputs": [
    {
     "data": {
      "text/plain": [
       "TECHNICAL     258\n",
       "MANAGEMENT     97\n",
       "ARCHITECT      72\n",
       "OTHER           5\n",
       "Name: CodeRole, dtype: int64"
      ]
     },
     "execution_count": 13,
     "metadata": {},
     "output_type": "execute_result"
    }
   ],
   "source": [
    "df.CodeRole.value_counts()"
   ]
  },
  {
   "cell_type": "code",
   "execution_count": 17,
   "metadata": {},
   "outputs": [
    {
     "data": {
      "text/plain": [
       "TECHNICAL     60.421546\n",
       "MANAGEMENT    22.716628\n",
       "ARCHITECT     16.861827\n",
       "OTHER          1.170960\n",
       "Name: CodeRole, dtype: float64"
      ]
     },
     "execution_count": 17,
     "metadata": {},
     "output_type": "execute_result"
    }
   ],
   "source": [
    "# OTHER are removed from the counting\n",
    "df.CodeRole.value_counts()/427*100"
   ]
  },
  {
   "cell_type": "code",
   "execution_count": 18,
   "metadata": {},
   "outputs": [
    {
     "data": {
      "text/plain": [
       "432"
      ]
     },
     "execution_count": 18,
     "metadata": {},
     "output_type": "execute_result"
    }
   ],
   "source": [
    "df.Q2Country.value_counts().sum()"
   ]
  },
  {
   "cell_type": "code",
   "execution_count": 19,
   "metadata": {
    "scrolled": true
   },
   "outputs": [
    {
     "data": {
      "text/plain": [
       "COLOMBIA                          134\n",
       "BRASIL                            107\n",
       "UNITED STATES OF AMERICA (USA)     99\n",
       "CHILE                              92\n",
       "Name: Q2Country, dtype: int64"
      ]
     },
     "execution_count": 19,
     "metadata": {},
     "output_type": "execute_result"
    }
   ],
   "source": [
    "df.Q2Country.value_counts()"
   ]
  },
  {
   "cell_type": "code",
   "execution_count": 20,
   "metadata": {},
   "outputs": [
    {
     "data": {
      "text/plain": [
       "COLOMBIA                          31.018519\n",
       "BRASIL                            24.768519\n",
       "UNITED STATES OF AMERICA (USA)    22.916667\n",
       "CHILE                             21.296296\n",
       "Name: Q2Country, dtype: float64"
      ]
     },
     "execution_count": 20,
     "metadata": {},
     "output_type": "execute_result"
    }
   ],
   "source": [
    "df.Q2Country.value_counts()/432*100"
   ]
  },
  {
   "cell_type": "code",
   "execution_count": 40,
   "metadata": {},
   "outputs": [],
   "source": [
    "dfA=df[df['CodeRole']=='ARCHITECT']\n",
    "dfT=df[df['CodeRole']=='TECHNICAL']\n",
    "dfM=df[df['CodeRole']=='MANAGEMENT']"
   ]
  },
  {
   "cell_type": "markdown",
   "metadata": {},
   "source": [
    "### COUNTRY REPRESENTATION"
   ]
  },
  {
   "cell_type": "code",
   "execution_count": 51,
   "metadata": {},
   "outputs": [
    {
     "data": {
      "text/plain": [
       "72"
      ]
     },
     "execution_count": 51,
     "metadata": {},
     "output_type": "execute_result"
    }
   ],
   "source": [
    "dfA.Q2Country.value_counts().sum()"
   ]
  },
  {
   "cell_type": "code",
   "execution_count": 52,
   "metadata": {
    "scrolled": true
   },
   "outputs": [
    {
     "data": {
      "text/plain": [
       "COLOMBIA                          28\n",
       "UNITED STATES OF AMERICA (USA)    18\n",
       "CHILE                             16\n",
       "BRASIL                            10\n",
       "Name: Q2Country, dtype: int64"
      ]
     },
     "execution_count": 52,
     "metadata": {},
     "output_type": "execute_result"
    }
   ],
   "source": [
    "dfA.Q2Country.value_counts()"
   ]
  },
  {
   "cell_type": "code",
   "execution_count": 53,
   "metadata": {},
   "outputs": [
    {
     "data": {
      "text/plain": [
       "COLOMBIA                          38.888889\n",
       "UNITED STATES OF AMERICA (USA)    25.000000\n",
       "CHILE                             22.222222\n",
       "BRASIL                            13.888889\n",
       "Name: Q2Country, dtype: float64"
      ]
     },
     "execution_count": 53,
     "metadata": {},
     "output_type": "execute_result"
    }
   ],
   "source": [
    "dfA.Q2Country.value_counts()/72*100"
   ]
  },
  {
   "cell_type": "markdown",
   "metadata": {},
   "source": [
    "### COMPANY SIZE"
   ]
  },
  {
   "cell_type": "code",
   "execution_count": 55,
   "metadata": {},
   "outputs": [
    {
     "data": {
      "text/plain": [
       "11-50 EMPLOYEES             21\n",
       "MORE THAN 2000 EMPLOYEES    14\n",
       "251-500 EMPLOYEES           10\n",
       "501-1000 EMPLOYEES           9\n",
       "51-250 EMPLOYEES             7\n",
       "1-10 EMPLOYEES               6\n",
       "1001-2000 EMPLOYEES          5\n",
       "Name: Q1Size, dtype: int64"
      ]
     },
     "execution_count": 55,
     "metadata": {},
     "output_type": "execute_result"
    }
   ],
   "source": [
    "dfA.Q1Size.value_counts()"
   ]
  },
  {
   "cell_type": "code",
   "execution_count": 56,
   "metadata": {},
   "outputs": [
    {
     "data": {
      "text/plain": [
       "11-50 EMPLOYEES             29.166667\n",
       "MORE THAN 2000 EMPLOYEES    19.444444\n",
       "251-500 EMPLOYEES           13.888889\n",
       "501-1000 EMPLOYEES          12.500000\n",
       "51-250 EMPLOYEES             9.722222\n",
       "1-10 EMPLOYEES               8.333333\n",
       "1001-2000 EMPLOYEES          6.944444\n",
       "Name: Q1Size, dtype: float64"
      ]
     },
     "execution_count": 56,
     "metadata": {},
     "output_type": "execute_result"
    }
   ],
   "source": [
    "dfA.Q1Size.value_counts()/72*100"
   ]
  },
  {
   "cell_type": "markdown",
   "metadata": {},
   "source": [
    "### SIZE OF DEVELOPMENT TEAM"
   ]
  },
  {
   "cell_type": "code",
   "execution_count": 102,
   "metadata": {},
   "outputs": [
    {
     "data": {
      "text/plain": [
       "5-9 PEOPLE             27\n",
       "10-20 PEOPLE           20\n",
       "21-30 PEOPLE           12\n",
       "MORE THAN 30 PEOPLE    12\n",
       "LESS THAN 5 PEOPLE      7\n",
       "Name: Q4NumberPeople, dtype: int64"
      ]
     },
     "execution_count": 102,
     "metadata": {},
     "output_type": "execute_result"
    }
   ],
   "source": [
    "dfA.Q4NumberPeople.value_counts()"
   ]
  },
  {
   "cell_type": "code",
   "execution_count": 59,
   "metadata": {},
   "outputs": [
    {
     "data": {
      "text/plain": [
       "5-9 PEOPLE             36.111111\n",
       "10-20 PEOPLE           25.000000\n",
       "MORE THAN 30 PEOPLE    15.277778\n",
       "21-30 PEOPLE           13.888889\n",
       "LESS THAN 5 PEOPLE      9.722222\n",
       "Name: Q4NumberPeople, dtype: float64"
      ]
     },
     "execution_count": 59,
     "metadata": {},
     "output_type": "execute_result"
    }
   ],
   "source": [
    "dfA.Q4NumberPeople.value_counts()/72*100"
   ]
  },
  {
   "cell_type": "markdown",
   "metadata": {},
   "source": [
    "### SYSTEM AGE"
   ]
  },
  {
   "cell_type": "code",
   "execution_count": 60,
   "metadata": {},
   "outputs": [
    {
     "data": {
      "text/plain": [
       "2-5 YEARS             25\n",
       "1-2 YEARS             24\n",
       "LESS THAN 1 YEAR      10\n",
       "MORE THAN 10 YEARS     7\n",
       "5-10 YEARS             6\n",
       "Name: Q5Age, dtype: int64"
      ]
     },
     "execution_count": 60,
     "metadata": {},
     "output_type": "execute_result"
    }
   ],
   "source": [
    "dfA.Q5Age.value_counts()"
   ]
  },
  {
   "cell_type": "code",
   "execution_count": 61,
   "metadata": {},
   "outputs": [
    {
     "data": {
      "text/plain": [
       "2-5 YEARS             34.722222\n",
       "1-2 YEARS             33.333333\n",
       "LESS THAN 1 YEAR      13.888889\n",
       "MORE THAN 10 YEARS     9.722222\n",
       "5-10 YEARS             8.333333\n",
       "Name: Q5Age, dtype: float64"
      ]
     },
     "execution_count": 61,
     "metadata": {},
     "output_type": "execute_result"
    }
   ],
   "source": [
    "dfA.Q5Age.value_counts()/72*100"
   ]
  },
  {
   "cell_type": "markdown",
   "metadata": {},
   "source": [
    "### EXPERIENCE"
   ]
  },
  {
   "cell_type": "code",
   "execution_count": 62,
   "metadata": {},
   "outputs": [
    {
     "data": {
      "text/plain": [
       "Proficient    26\n",
       "Expert        21\n",
       "Competent     19\n",
       "Beginner       5\n",
       "Novice         1\n",
       "Name: Q7Experience, dtype: int64"
      ]
     },
     "execution_count": 62,
     "metadata": {},
     "output_type": "execute_result"
    }
   ],
   "source": [
    "dfA.Q7Experience.value_counts()"
   ]
  },
  {
   "cell_type": "code",
   "execution_count": 63,
   "metadata": {},
   "outputs": [
    {
     "data": {
      "text/plain": [
       "Proficient    36.111111\n",
       "Expert        29.166667\n",
       "Competent     26.388889\n",
       "Beginner       6.944444\n",
       "Novice         1.388889\n",
       "Name: Q7Experience, dtype: float64"
      ]
     },
     "execution_count": 63,
     "metadata": {},
     "output_type": "execute_result"
    }
   ],
   "source": [
    "dfA.Q7Experience.value_counts()/72*100"
   ]
  }
 ],
 "metadata": {
  "kernelspec": {
   "display_name": "Python 3",
   "language": "python",
   "name": "python3"
  },
  "language_info": {
   "codemirror_mode": {
    "name": "ipython",
    "version": 3
   },
   "file_extension": ".py",
   "mimetype": "text/x-python",
   "name": "python",
   "nbconvert_exporter": "python",
   "pygments_lexer": "ipython3",
   "version": "3.7.4"
  }
 },
 "nbformat": 4,
 "nbformat_minor": 2
}
