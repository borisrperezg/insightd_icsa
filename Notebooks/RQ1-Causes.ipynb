{
 "cells": [
  {
   "cell_type": "code",
   "execution_count": 34,
   "metadata": {},
   "outputs": [],
   "source": [
    "import pandas as pd\n",
    "import matplotlib.pyplot as plt\n",
    "\n",
    "pd.set_option('display.max_rows', 500)"
   ]
  },
  {
   "cell_type": "code",
   "execution_count": 35,
   "metadata": {},
   "outputs": [],
   "source": [
    "df = pd.read_excel (r'../../../../eclipse-workspace/processinginsightd_datasource/InsighTD-Respuestas(BR-CH-CO-US).xlsx')"
   ]
  },
  {
   "cell_type": "code",
   "execution_count": 36,
   "metadata": {},
   "outputs": [
    {
     "data": {
      "text/plain": [
       "432"
      ]
     },
     "execution_count": 36,
     "metadata": {},
     "output_type": "execute_result"
    }
   ],
   "source": [
    "df.shape[0]"
   ]
  },
  {
   "cell_type": "code",
   "execution_count": 37,
   "metadata": {},
   "outputs": [],
   "source": [
    "df.rename(columns={ df.columns[0]: \"Q1Size\" }, inplace = True)\n",
    "df.rename(columns={ df.columns[1]: \"Q2Country\" }, inplace = True)\n",
    "df.rename(columns={ df.columns[2]: \"Q3LOC\" }, inplace = True)\n",
    "df.rename(columns={ df.columns[3]: \"Q4NumberPeople\" }, inplace = True)\n",
    "df.rename(columns={ df.columns[4]: \"Q5Age\" }, inplace = True)\n",
    "df.rename(columns={ df.columns[5]: \"Q6Role\" }, inplace = True)\n",
    "df.rename(columns={ df.columns[6]: \"CodeRole\" }, inplace = True)\n",
    "df.rename(columns={ df.columns[7]: \"Q7Experience\" }, inplace = True)\n",
    "df.rename(columns={ df.columns[8]: \"Q8DevProcess\" }, inplace = True)\n",
    "df.rename(columns={ df.columns[9]: \"Q13Example\" }, inplace = True)\n",
    "df.rename(columns={ df.columns[10]: \"ExampleTDType\" }, inplace = True)\n",
    "df.rename(columns={ df.columns[11]: \"Q15ExampleRepresentative\" }, inplace = True)\n",
    "df.rename(columns={ df.columns[12]: \"CodeCauses\" }, inplace = True)\n",
    "df.rename(columns={ df.columns[13]: \"Q24WasDebtMonitored\" }, inplace = True)\n",
    "df.rename(columns={ df.columns[14]: \"Q25HowMonitored\" }, inplace = True)\n",
    "df.rename(columns={ df.columns[15]: \"CodeMonitored\" }, inplace = True)\n",
    "df.rename(columns={ df.columns[16]: \"Q26WasDebtPaidOff\" }, inplace = True)\n",
    "df.rename(columns={ df.columns[17]: \"Q27HowPaidOff\" }, inplace = True)\n",
    "df.rename(columns={ df.columns[18]: \"CodePayOff\" }, inplace = True)\n",
    "df.rename(columns={ df.columns[19]: \"FinalRepayCode\" }, inplace = True)\n",
    "df.rename(columns={ df.columns[20]: \"Q28HowPrevent\" }, inplace = True)\n",
    "df.rename(columns={ df.columns[21]: \"CodePrevent\" }, inplace = True)"
   ]
  },
  {
   "cell_type": "code",
   "execution_count": 38,
   "metadata": {},
   "outputs": [],
   "source": [
    "#list(df.columns) "
   ]
  },
  {
   "cell_type": "markdown",
   "metadata": {},
   "source": [
    "## REPLACING VALUES OF THE ROWS"
   ]
  },
  {
   "cell_type": "code",
   "execution_count": 39,
   "metadata": {},
   "outputs": [],
   "source": [
    "df['Q1Size'].replace(['1-10 empleados', '1-10 funcionários'], '1-10 employees', inplace=True)\n",
    "df['Q1Size'].replace(['11-50 empleados', '11-50 funcionários'], '11-50 employees', inplace=True)\n",
    "df['Q1Size'].replace(['51-250 empleados', '51-250 funcionários'], '51-250 employees', inplace=True)\n",
    "df['Q1Size'].replace(['251-500 empleados', '251-500 funcionários'], '251-500 employees', inplace=True)\n",
    "df['Q1Size'].replace(['501-1000 empleados', '501-1000 funcionários'], '501-1000 employees', inplace=True)\n",
    "df['Q1Size'].replace(['1001-2000 empleados', '1001-2000 funcionários'], '1001-2000 employees', inplace=True)\n",
    "df['Q1Size'].replace(['mas de 2000 empleados', 'mais que 2000 funcionários'], 'more than 2000 employees', inplace=True)"
   ]
  },
  {
   "cell_type": "code",
   "execution_count": 40,
   "metadata": {},
   "outputs": [],
   "source": [
    "df['Q4NumberPeople'].replace(['Menos de 5 personas', 'Menos que 5 pessoas'], 'Less than 5 people', inplace=True)\n",
    "df['Q4NumberPeople'].replace(['5-9 personas', '5-9 pessoas'], '5-9 people', inplace=True)\n",
    "df['Q4NumberPeople'].replace(['10-20 personas', '10-20 pessoas'], '10-20 people', inplace=True)\n",
    "df['Q4NumberPeople'].replace(['21-30 personas', '21-30 pessoas'], '21-30 people', inplace=True)\n",
    "df['Q4NumberPeople'].replace(['Más de 30 personas', 'Mais que 30 pessoas'], 'More than 30 people', inplace=True)"
   ]
  },
  {
   "cell_type": "code",
   "execution_count": 41,
   "metadata": {},
   "outputs": [],
   "source": [
    "df['Q5Age'].replace(['Menos de 1 año', 'Menos que 1 ano'], 'Less than 1 year', inplace=True)\n",
    "df['Q5Age'].replace(['1-2 años', '1-2 anos'], '1-2 years', inplace=True)\n",
    "df['Q5Age'].replace(['2-5 años', '2-5 anos'], '2-5 years', inplace=True)\n",
    "df['Q5Age'].replace(['5-10 años', '5-10 anos'], '5-10 years', inplace=True)\n",
    "df['Q5Age'].replace(['Más de 10 años', 'Mais que 10 anos'], 'More than 10 years', inplace=True)"
   ]
  },
  {
   "cell_type": "code",
   "execution_count": 42,
   "metadata": {},
   "outputs": [],
   "source": [
    "df['Q7Experience'].replace(['Competente (Buen conocimiento laboral y de fondo del área de práctica)', 'Competente'], 'Competent', inplace=True)\n",
    "df['Q7Experience'].replace(['Proficiente (Profundo entendimiento de la disciplina y del área de práctica)', 'Proficiente'], 'Proficient', inplace=True)\n",
    "df['Q7Experience'].replace(['Experto (Conocimiento autoritativo de la disciplina y un entendimiento profundo al rededor del área de práctica)', 'Especialista'], 'Expert', inplace=True)\n",
    "df['Q7Experience'].replace(['Principiante (Conocimiento laboral de los aspectos claves del área de práctica)', 'Iniciante'], 'Beginner', inplace=True)\n",
    "df['Q7Experience'].replace(['Novato (Conocimiento mínimo o teórico sin conectarlo a la práctica)', 'Novato'], 'Novice', inplace=True)"
   ]
  },
  {
   "cell_type": "code",
   "execution_count": 43,
   "metadata": {},
   "outputs": [],
   "source": [
    "df['Q8DevProcess'].replace(['Híbrido (es la combinación de métodos ágiles con otras técnicas no ágiles. Por ejemplo, un esfuerzo para detallar requisitos, seguido de sprints de entrega incremental)', 'Híbrido'], 'Hybrid', inplace=True)\n",
    "df['Q8DevProcess'].replace(['Ágil (un proceso ligero que promueve el desarrollo iterativo, la estrecha colaboración entre el equipo de desarrollo y el negocio, la comunicación constante y los equipos muy cohesionados).', 'Ágil'], 'Agile', inplace=True)\n",
    "df['Q8DevProcess'].replace(['Tradicional (métodos convencionales de desarrollo de software basados en documentos que pueden caracterizarse como planificación extensiva, estandarización de las etapas de desarrollo, comunicación formalizada, documentación significativa y diseño de up-front).', 'Tradicional'], 'Traditional', inplace=True)\n",
    "df['Q8DevProcess'].replace(['', ''], '', inplace=True)"
   ]
  },
  {
   "cell_type": "markdown",
   "metadata": {},
   "source": [
    "## TRANSFORMING EVERYTHING TO UPPERCASE"
   ]
  },
  {
   "cell_type": "code",
   "execution_count": 49,
   "metadata": {},
   "outputs": [],
   "source": [
    "df['CodeCauses'] = df['CodeCauses'].str.strip()\n",
    "df['CodeCauses'] = df['CodeCauses'].str.upper() \n",
    "\n",
    "df['Q1Size'] = df['Q1Size'].str.strip()\n",
    "df['Q1Size'] = df['Q1Size'].str.upper() \n",
    "\n",
    "df['Q2Country'] = df['Q2Country'].str.strip()\n",
    "df['Q2Country'] = df['Q2Country'].str.upper()\n",
    "\n",
    "df['Q4NumberPeople'] = df['Q4NumberPeople'].str.strip()\n",
    "df['Q4NumberPeople'] = df['Q4NumberPeople'].str.upper()\n",
    "\n",
    "df['Q5Age'] = df['Q5Age'].str.strip()\n",
    "df['Q5Age'] = df['Q5Age'].str.upper()\n",
    "\n",
    "df['CodeRole'] = df['CodeRole'].str.strip()\n",
    "df['CodeRole'] = df['CodeRole'].str.upper()\n",
    "\n",
    "df['Q8DevProcess'] = df['Q8DevProcess'].str.strip()\n",
    "df['Q8DevProcess'] = df['Q8DevProcess'].str.upper()"
   ]
  },
  {
   "cell_type": "code",
   "execution_count": 50,
   "metadata": {},
   "outputs": [],
   "source": [
    "df = df[df.CodeCauses != '-']"
   ]
  },
  {
   "cell_type": "markdown",
   "metadata": {},
   "source": [
    "## GETTING LIST OF CAUSES PER ROLE"
   ]
  },
  {
   "cell_type": "code",
   "execution_count": 15,
   "metadata": {},
   "outputs": [],
   "source": [
    "series = pd.DataFrame(df['CodeCauses'].str.split('\\n').tolist()).stack()\n",
    "series.index = series.index.droplevel(1)"
   ]
  },
  {
   "cell_type": "code",
   "execution_count": 16,
   "metadata": {},
   "outputs": [
    {
     "data": {
      "text/plain": [
       "DEADLINE                                             105\n",
       "NOT EFFECTIVE PROJECT MANAGEMENT                      57\n",
       "INAPPROPRIATE PLANNING                                57\n",
       "FOCUS ON PRODUCING MORE AT THE EXPENSE OF QUALITY     50\n",
       "LACK OF QUALIFIED PROFESSIONALS                       48\n",
       "dtype: int64"
      ]
     },
     "execution_count": 16,
     "metadata": {},
     "output_type": "execute_result"
    }
   ],
   "source": [
    "series_ = series.value_counts()\n",
    "series_.head(5)"
   ]
  },
  {
   "cell_type": "code",
   "execution_count": 17,
   "metadata": {},
   "outputs": [
    {
     "data": {
      "text/plain": [
       "(119,)"
      ]
     },
     "execution_count": 17,
     "metadata": {},
     "output_type": "execute_result"
    }
   ],
   "source": [
    "series_.shape"
   ]
  },
  {
   "cell_type": "markdown",
   "metadata": {},
   "source": [
    "### TECHNICAL"
   ]
  },
  {
   "cell_type": "code",
   "execution_count": 54,
   "metadata": {},
   "outputs": [],
   "source": [
    "dfTECHNICAL = df[df['CodeRole']=='TECHNICAL']\n",
    "\n",
    "seriesTECHNICAL = pd.DataFrame(dfTECHNICAL['CodeCauses'].str.split('\\n').tolist()).stack()\n",
    "seriesTECHNICAL.index = seriesTECHNICAL.index.droplevel(1)"
   ]
  },
  {
   "cell_type": "code",
   "execution_count": 55,
   "metadata": {},
   "outputs": [
    {
     "data": {
      "text/plain": [
       "728"
      ]
     },
     "execution_count": 55,
     "metadata": {},
     "output_type": "execute_result"
    }
   ],
   "source": [
    "seriesTECHNICAL_ = seriesTECHNICAL.value_counts()\n",
    "seriesTECHNICAL_.sum()"
   ]
  },
  {
   "cell_type": "code",
   "execution_count": 56,
   "metadata": {},
   "outputs": [
    {
     "data": {
      "text/plain": [
       "DEADLINE                                             69\n",
       "INAPPROPRIATE PLANNING                               33\n",
       "NOT EFFECTIVE PROJECT MANAGEMENT                     29\n",
       "FOCUS ON PRODUCING MORE AT THE EXPENSE OF QUALITY    27\n",
       "INACCURATE TIME ESTIMATE                             26\n",
       "dtype: int64"
      ]
     },
     "execution_count": 56,
     "metadata": {},
     "output_type": "execute_result"
    }
   ],
   "source": [
    "seriesTECHNICAL_.head(5)"
   ]
  },
  {
   "cell_type": "code",
   "execution_count": 57,
   "metadata": {
    "scrolled": true
   },
   "outputs": [
    {
     "data": {
      "text/plain": [
       "DEADLINE                                                                        69\n",
       "INAPPROPRIATE PLANNING                                                          33\n",
       "NOT EFFECTIVE PROJECT MANAGEMENT                                                29\n",
       "FOCUS ON PRODUCING MORE AT THE EXPENSE OF QUALITY                               27\n",
       "INACCURATE TIME ESTIMATE                                                        26\n",
       "LACK OF QUALIFIED PROFESSIONALS                                                 26\n",
       "LACK OF TECHNICAL KNOWLEDGE                                                     22\n",
       "LACK OF A WELL-DEFINED PROCESS                                                  22\n",
       "LACK OF EXPERIENCE                                                              20\n",
       "NON-ADOPTION OF GOOD PRACTICES                                                  20\n",
       "LACK OF TEAM COMMUNICATION                                                      17\n",
       "BAD DESIGN                                                                      15\n",
       "PRESSURE                                                                        15\n",
       "TEAM OVERLOAD                                                                   14\n",
       "INAPPROPRIATE / POORLY PLANNED / POORLY EXECUTED TEST                           13\n",
       "INACCURATE OR COMPLEX REQUIREMENT                                               13\n",
       "CUSTOMER DOES NOT KNOW HIS OWN NEEDS                                            12\n",
       "LACK OF KNOWLEDGE ON DEVELOPMENT TOOLS                                          12\n",
       "PROBLEMS IN ARCHITECTURE                                                        11\n",
       "LACK OF TRAINING                                                                11\n",
       "LACK OF COMMITMENT                                                              11\n",
       "LACK OF DOMAIN KNOWLEDGE                                                        11\n",
       "SLOPPY CODE                                                                     10\n",
       "POOR ALLOCATION OF RESOURCES                                                    10\n",
       "LACK OF PERCEPTION OF THE IMPORTANCE OF TESTING AND REFACTORING                  9\n",
       "HIGH TURNOVER OF THE TEAM                                                        9\n",
       "INADEQUATE IMPACT AND RISK ANALYSIS                                              9\n",
       "CHANGE OF REQUIREMENTS                                                           8\n",
       "LACK OF REQUIREMENTS ANALYSIS                                                    8\n",
       "COST                                                                             8\n",
       "TEST NOT PERFORMED                                                               8\n",
       "COMPLEXITY OF THE PROJECT                                                        8\n",
       "NONEXISTENT DOCUMENTATION                                                        7\n",
       "ADOPTION OF CONTOUR SOLUTIONS AS DEFINITIVE                                      7\n",
       "LACK OF QUALITY                                                                  7\n",
       "LACK OF CODE REVIEW                                                              7\n",
       "LACK OF SPECIFIC TEAM                                                            6\n",
       "POOR SCOPE DEFINITION                                                            6\n",
       "OUTDATED / INCOMPLETE DOCUMENTATION                                              6\n",
       "INADEQUATE CHOICE OF TECHNOLOGY / TOOL / PLATFORM                                6\n",
       "LACK OF VALIDATION                                                               6\n",
       "MANAGER'S LACK OF AWARENESS OF CUSTOMER NEEDS                                    6\n",
       "LACK OF REFACTORING                                                              6\n",
       "NON-COMPLIANCE WITH NON-FUNCTIONAL REQUIREMENTS                                  5\n",
       "REQUIREMENTS ELICITATION ISSUES                                                  5\n",
       "LACK OF KNOWLEDGE                                                                5\n",
       "BAD TECHNICAL LEADERSHIP                                                         5\n",
       "CHANGE OF SCOPE                                                                  5\n",
       "EXTERNAL COMPONENT DEPENDENCY                                                    5\n",
       "REQUIRED INFRASTRUCTURE UNAVAILABLE                                              5\n",
       "LACK OF MOTIVATION                                                               4\n",
       "THE COMPANY DOES NOT GIVE IMPORTANCE TO DOCUMENTATION                            4\n",
       "POORLY CRAFTED SLAS                                                              4\n",
       "CUSTOMER DOES NOT LISTEN TO PROJECT TEAM                                         3\n",
       "POOR DESIGN                                                                      3\n",
       "LACK OF TRANSPARENCY BETWEEN CLIENT AND DEVELOPMENT TEAM                         3\n",
       "CHANGE IN EXTERNAL COMPONENT                                                     3\n",
       "NON-COMPLIANCE WITH POLICIES ESTABLISHED BY MANAGEMENT                           3\n",
       "LACK OF PERCEPTION OF THE IMPORTANCE OF TESTING, DOCUMENTING AND REFACTORING     3\n",
       "POOR CHOICE OF FRAMEWORK                                                         2\n",
       "LACK OF AUTOMATED TESTING                                                        2\n",
       "REQUIREMENTS DEFINITION ISSUES                                                   2\n",
       "DEVELOPERS DO NOT LIKE TO DO SOME ACTIVITIES                                     2\n",
       "LOW PRODUCTIVITY                                                                 2\n",
       "LACK OF INFORMATION                                                              2\n",
       "LACK OF REUSE PRACTICES                                                          2\n",
       "CONCERN WITH JUST BACK-END DEVELOPMENT                                           2\n",
       "INSUFFICIENT LONG-TERM VISION                                                    2\n",
       "INADEQUATE MANAGEMENT DECISION                                                   2\n",
       "VERSION INCOMPATIBILITY                                                          2\n",
       "DISCONTINUED COMPONENT                                                           2\n",
       "INADEQUATE DATA MODEL                                                            2\n",
       "THIRD PARTY TEAM INVOLVED IN THE PROJECT                                         2\n",
       "LACK OF TRACEABILITY OF BUGS                                                     2\n",
       "NON-SHARING OF KNOWLEDGE                                                         1\n",
       "OVER PROJECT PLANNING                                                            1\n",
       "LACK OF CHANGE CONTROL                                                           1\n",
       "FEAR TO GIVE AN OPINION                                                          1\n",
       "OVER DOCUMENTATION                                                               1\n",
       "LACK OF PRIORITIZATION AT COMPANY LEVEL                                          1\n",
       "POOR TECHNICAL MANAGEMENT                                                        1\n",
       "DEADLINE                                                                         1\n",
       "AVOID CHANGES IN WORKING CODE                                                    1\n",
       "LACK OF PROTOTYPING                                                              1\n",
       "BE RESPONSIBLE FOR CODE FROM OTHERS                                              1\n",
       "CHANGE IN DESIGN                                                                 1\n",
       "INADEQUATE TECHNICAL DECISION                                                    1\n",
       "UPDATING EXISTING TOOLS                                                          1\n",
       "FOCUS ON PRODUCING MORE AT THE EXPENSE  OF QUALITY                               1\n",
       "LACK OF PERCEPTION OF THE IMPORTANCE OF AUTOMATED TESTS                          1\n",
       "LACK OF PERCEPTION OF THE IMPORTANCE OF DEALING WITH TD                          1\n",
       "CUSTOMER DOES NOT WILLING TO PAY                                                 1\n",
       "LACK OF A WELL DEFINED PROCESS                                                   1\n",
       "STRUCTURAL CHANGE IN THE COMPANIES INVOLVED                                      1\n",
       "UNNECESSARY DOCUMENTATION                                                        1\n",
       "BE RESPONSABLE FOR CODE FROM OTHERS                                              1\n",
       "LACK OF PRIORITY FOR THE PROJECT                                                 1\n",
       "POLITICS IN THE BUSINESS                                                         1\n",
       "DEPLOYMENT                                                                       1\n",
       "LACK OF INTEREST IN ACQUIRING KNOWLEDGE                                          1\n",
       "INTEGRATION OF NEW TOOLS                                                         1\n",
       "dtype: int64"
      ]
     },
     "execution_count": 57,
     "metadata": {},
     "output_type": "execute_result"
    }
   ],
   "source": [
    "seriesTECHNICAL_"
   ]
  },
  {
   "cell_type": "markdown",
   "metadata": {},
   "source": [
    "### ARCHITECT"
   ]
  },
  {
   "cell_type": "code",
   "execution_count": 51,
   "metadata": {},
   "outputs": [],
   "source": [
    "dfARCHITECT = df[df['CodeRole']=='ARCHITECT']\n",
    "\n",
    "seriesARCHITECT = pd.DataFrame(dfARCHITECT['CodeCauses'].str.split('\\n').tolist()).stack()\n",
    "seriesARCHITECT.index = seriesARCHITECT.index.droplevel(1)"
   ]
  },
  {
   "cell_type": "code",
   "execution_count": 52,
   "metadata": {},
   "outputs": [
    {
     "data": {
      "text/plain": [
       "199"
      ]
     },
     "execution_count": 52,
     "metadata": {},
     "output_type": "execute_result"
    }
   ],
   "source": [
    "seriesARCHITECT_ = seriesARCHITECT.value_counts()\n",
    "seriesARCHITECT_.sum()"
   ]
  },
  {
   "cell_type": "code",
   "execution_count": 53,
   "metadata": {},
   "outputs": [
    {
     "data": {
      "text/plain": [
       "INAPPROPRIATE PLANNING                                                          15\n",
       "DEADLINE                                                                        15\n",
       "FOCUS ON PRODUCING MORE AT THE EXPENSE OF QUALITY                               13\n",
       "NOT EFFECTIVE PROJECT MANAGEMENT                                                11\n",
       "NON-ADOPTION OF GOOD PRACTICES                                                   8\n",
       "LACK OF QUALIFIED PROFESSIONALS                                                  8\n",
       "LACK OF EXPERIENCE                                                               7\n",
       "PRESSURE                                                                         7\n",
       "INACCURATE TIME ESTIMATE                                                         6\n",
       "INAPPROPRIATE / POORLY PLANNED / POORLY EXECUTED TEST                            5\n",
       "TEAM OVERLOAD                                                                    5\n",
       "COST                                                                             5\n",
       "CHANGE OF REQUIREMENTS                                                           4\n",
       "BAD DESIGN                                                                       4\n",
       "LACK OF A WELL-DEFINED PROCESS                                                   4\n",
       "LACK OF KNOWLEDGE ON DEVELOPMENT TOOLS                                           4\n",
       "INACCURATE OR COMPLEX REQUIREMENT                                                4\n",
       "POOR SCOPE DEFINITION                                                            3\n",
       "MANAGER'S LACK OF AWARENESS OF CUSTOMER NEEDS                                    3\n",
       "OUTDATED / INCOMPLETE DOCUMENTATION                                              3\n",
       "LACK OF TECHNICAL KNOWLEDGE                                                      3\n",
       "ADOPTION OF CONTOUR SOLUTIONS AS DEFINITIVE                                      3\n",
       "INADEQUATE CHOICE OF TECHNOLOGY / TOOL / PLATFORM                                2\n",
       "HIGH TURNOVER OF THE TEAM                                                        2\n",
       "CUSTOMER DOES NOT KNOW HIS OWN NEEDS                                             2\n",
       "POOR TECHNICAL LEADERSHIP                                                        2\n",
       "DISCONTINUED COMPONENT                                                           2\n",
       "REQUIREMENTS ELICITATION ISSUES                                                  2\n",
       "LACK OF CODE REVIEW                                                              2\n",
       "POOR ALLOCATION OF RESOURCES                                                     2\n",
       "LACK OF PERCEPTION OF THE IMPORTANCE OF TESTING, DOCUMENTING AND REFACTORING     2\n",
       "LACK OF PAIR PROGRAMMING                                                         2\n",
       "POOR TECHNICAL MANAGEMENT                                                        2\n",
       "EXTERNAL COMPONENT DEPENDENCY                                                    2\n",
       "LACK OF COMMITMENT                                                               2\n",
       "NON-COMPLIANCE WITH NON-FUNCTIONAL REQUIREMENTS                                  2\n",
       "EXTERNAL COMPONENT DEPENDENCY (LEGACY)                                           1\n",
       "LACK OF PERCEPTION OF THE IMPORTANCE OF TESTING AND REFACTORING                  1\n",
       "LACK OF INTEREST IN ACQUIRING KNOWLEDGE                                          1\n",
       "TEST NOT PERFORMED                                                               1\n",
       "LACK OF SPECIFIC TEAM                                                            1\n",
       "BAD TECHNICAL LEADERSHIP                                                         1\n",
       "LEGACY SYSTEM                                                                    1\n",
       "SLOPPY CODE                                                                      1\n",
       "CUSTOMER DOES NOT LISTEN TO PROJECT TEAM                                         1\n",
       "DEADLINE                                                                         1\n",
       "STRUCTURAL CHANGE IN THE COMPANIES INVOLVED                                      1\n",
       "LACK OF REFACTORING                                                              1\n",
       "CHANGE OF SCOPE                                                                  1\n",
       "LACK OF REQUIREMENTS ANALYSIS                                                    1\n",
       "LACK OF IT GOVERNANCE                                                            1\n",
       "LACK OF TEAM COMMUNICATION                                                       1\n",
       "NON-COMPLIANCE WITH POLICIES ESTABLISHED BY MANAGEMENT                           1\n",
       "LACK OF AUTOMATED TESTING                                                        1\n",
       "PROBLEMS IN ARCHITECTURE                                                         1\n",
       "INADEQUATE MANAGEMENT DECISION                                                   1\n",
       "NORMATIVE CHANGES                                                                1\n",
       "LACK OF TRAINING                                                                 1\n",
       "DEVELOPERS DO NOT LIKE TO DO SOME ACTIVITIES                                     1\n",
       "NON-SHARING OF KNOWLEDGE                                                         1\n",
       "THE COMPANY DOES NOT GIVE IMPORTANCE TO DOCUMENTATION                            1\n",
       "LACK OF MOTIVATION                                                               1\n",
       "LACK OF KNOWLEDGE                                                                1\n",
       "REQUIRED INFRASTRUCTURE UNAVAILABLE                                              1\n",
       "COMPLEXITY OF THE PROJECT                                                        1\n",
       "LACK OF REUSE PRACTICES                                                          1\n",
       "NO BUG FIXES                                                                     1\n",
       "dtype: int64"
      ]
     },
     "execution_count": 53,
     "metadata": {},
     "output_type": "execute_result"
    }
   ],
   "source": [
    "seriesARCHITECT_"
   ]
  },
  {
   "cell_type": "markdown",
   "metadata": {},
   "source": [
    "### MANAGEMENT"
   ]
  },
  {
   "cell_type": "code",
   "execution_count": 58,
   "metadata": {},
   "outputs": [],
   "source": [
    "dfMANAGEMENT = df[df['CodeRole']=='MANAGEMENT']\n",
    "\n",
    "seriesMANAGEMENT = pd.DataFrame(dfMANAGEMENT['CodeCauses'].str.split('\\n').tolist()).stack()\n",
    "seriesMANAGEMENT.index = seriesMANAGEMENT.index.droplevel(1)"
   ]
  },
  {
   "cell_type": "code",
   "execution_count": 59,
   "metadata": {},
   "outputs": [
    {
     "data": {
      "text/plain": [
       "273"
      ]
     },
     "execution_count": 59,
     "metadata": {},
     "output_type": "execute_result"
    }
   ],
   "source": [
    "seriesMANAGEMENT_ = seriesMANAGEMENT.value_counts()\n",
    "seriesMANAGEMENT_.sum()"
   ]
  },
  {
   "cell_type": "code",
   "execution_count": 60,
   "metadata": {},
   "outputs": [
    {
     "data": {
      "text/plain": [
       "DEADLINE                            21\n",
       "NOT EFFECTIVE PROJECT MANAGEMENT    16\n",
       "LACK OF QUALIFIED PROFESSIONALS     12\n",
       "INACCURATE TIME ESTIMATE             9\n",
       "LACK OF A WELL-DEFINED PROCESS       9\n",
       "dtype: int64"
      ]
     },
     "execution_count": 60,
     "metadata": {},
     "output_type": "execute_result"
    }
   ],
   "source": [
    "seriesMANAGEMENT_.head(5)"
   ]
  },
  {
   "cell_type": "code",
   "execution_count": 61,
   "metadata": {},
   "outputs": [
    {
     "data": {
      "text/plain": [
       "DEADLINE                                                                        21\n",
       "NOT EFFECTIVE PROJECT MANAGEMENT                                                16\n",
       "LACK OF QUALIFIED PROFESSIONALS                                                 12\n",
       "INACCURATE TIME ESTIMATE                                                         9\n",
       "LACK OF A WELL-DEFINED PROCESS                                                   9\n",
       "FOCUS ON PRODUCING MORE AT THE EXPENSE OF QUALITY                                9\n",
       "COST                                                                             9\n",
       "INAPPROPRIATE PLANNING                                                           9\n",
       "NON-ADOPTION OF GOOD PRACTICES                                                   8\n",
       "HIGH TURNOVER OF THE TEAM                                                        8\n",
       "INAPPROPRIATE / POORLY PLANNED / POORLY EXECUTED TEST                            8\n",
       "LACK OF EXPERIENCE                                                               7\n",
       "LACK OF TECHNICAL KNOWLEDGE                                                      7\n",
       "CHANGE OF REQUIREMENTS                                                           7\n",
       "PRESSURE                                                                         5\n",
       "LACK OF TRAINING                                                                 5\n",
       "POOR SCOPE DEFINITION                                                            5\n",
       "LACK OF COMMITMENT                                                               5\n",
       "LACK OF TEAM COMMUNICATION                                                       5\n",
       "SLOPPY CODE                                                                      4\n",
       "BAD DESIGN                                                                       4\n",
       "PROBLEMS IN ARCHITECTURE                                                         4\n",
       "TEAM OVERLOAD                                                                    4\n",
       "CHANGE OF SCOPE                                                                  4\n",
       "MANAGER'S LACK OF AWARENESS OF CUSTOMER NEEDS                                    4\n",
       "LACK OF DOMAIN KNOWLEDGE                                                         4\n",
       "CUSTOMER DOES NOT KNOW HIS OWN NEEDS                                             3\n",
       "INACCURATE OR COMPLEX REQUIREMENT                                                3\n",
       "OUTDATED / INCOMPLETE DOCUMENTATION                                              3\n",
       "EXTERNAL COMPONENT DEPENDENCY                                                    3\n",
       "LACK OF REFACTORING                                                              3\n",
       "REQUIREMENTS ELICITATION ISSUES                                                  3\n",
       "STRUCTURAL CHANGE IN THE COMPANIES INVOLVED                                      3\n",
       "LACK OF CODE REVIEW                                                              3\n",
       "LACK OF PERCEPTION OF THE IMPORTANCE OF TESTING AND REFACTORING                  3\n",
       "LACK OF KNOWLEDGE                                                                3\n",
       "BAD TECHNICAL LEADERSHIP                                                         3\n",
       "TEST NOT PERFORMED                                                               3\n",
       "INADEQUATE IMPACT AND RISK ANALYSIS                                              2\n",
       "POOR ALLOCATION OF RESOURCES                                                     2\n",
       "NON-COMPLIANCE WITH POLICIES ESTABLISHED BY MANAGEMENT                           2\n",
       "POOR CHOICE OF FRAMEWORK                                                         2\n",
       "NON-COMPLIANCE WITH NON-FUNCTIONAL REQUIREMENTS                                  2\n",
       "LACK OF MOTIVATION                                                               2\n",
       "THIRD PARTY TEAM INVOLVED IN THE PROJECT                                         2\n",
       "CUSTOMER DOES NOT LISTEN TO PROJECT TEAM                                         2\n",
       "DEVELOPERS DO NOT LIKE TO DO SOME ACTIVITIES                                     2\n",
       "LACK OF KNOWLEDGE ON DEVELOPMENT TOOLS                                           2\n",
       "LACK OF CUSTOMER COMMITMENT                                                      2\n",
       "LACK OF TRANSPARENCY BETWEEN CLIENT AND DEVELOPMENT TEAM                         1\n",
       "LACK OF VALIDATION                                                               1\n",
       "INADEQUATE MANAGEMENT DECISION                                                   1\n",
       "INSUFFICIENT LONG-TERM VISION                                                    1\n",
       "POORLY CRAFTED SLAS                                                              1\n",
       "LACK OF UNDERSTANDING                                                            1\n",
       "REQUIREMENTS DEFINITION ISSUES                                                   1\n",
       "LACK OF INFORMATION                                                              1\n",
       "DEPLOYMENT                                                                       1\n",
       "INADEQUATE CHOICE OF TECHNOLOGY / TOOL / PLATFORM                                1\n",
       "LACK OF REUSE PRACTICES                                                          1\n",
       "LACK OF SPECIFIC TEAM                                                            1\n",
       "COMPLEXITY OF THE PROJECT                                                        1\n",
       "REQUIRED INFRASTRUCTURE UNAVAILABLE                                              1\n",
       "DEADLINE                                                                         1\n",
       "EXTERNAL COMPONENT LIMITATION                                                    1\n",
       "LACK OF PERCEPTION OF THE IMPORTANCE OF TESTING, DOCUMENTING AND REFACTORING     1\n",
       "LOW QUALITY                                                                      1\n",
       "LACK OF AUTOMATED TESTING                                                        1\n",
       "THE COMPANY DOES NOT GIVE IMPORTANCE TO QUALITY                                  1\n",
       "INADEQUATE DATA MODEL                                                            1\n",
       "LACK OF CONFIDENCE IN THE DEVELOPMENT                                            1\n",
       "LACK OF CONFIDENCE IN THE PRODUCT                                                1\n",
       "dtype: int64"
      ]
     },
     "execution_count": 61,
     "metadata": {},
     "output_type": "execute_result"
    }
   ],
   "source": [
    "seriesMANAGEMENT_"
   ]
  },
  {
   "cell_type": "markdown",
   "metadata": {},
   "source": [
    "### TO_CSV"
   ]
  },
  {
   "cell_type": "code",
   "execution_count": 24,
   "metadata": {},
   "outputs": [],
   "source": [
    "#seriesMANAGEMENT_.to_csv(index=True)"
   ]
  },
  {
   "cell_type": "code",
   "execution_count": 25,
   "metadata": {},
   "outputs": [],
   "source": [
    "#seriesARCHITECT_.to_csv(index=True)"
   ]
  },
  {
   "cell_type": "code",
   "execution_count": 26,
   "metadata": {},
   "outputs": [],
   "source": [
    "#seriesTECHNICAL_.to_csv(index=True)"
   ]
  }
 ],
 "metadata": {
  "kernelspec": {
   "display_name": "Python 3",
   "language": "python",
   "name": "python3"
  },
  "language_info": {
   "codemirror_mode": {
    "name": "ipython",
    "version": 3
   },
   "file_extension": ".py",
   "mimetype": "text/x-python",
   "name": "python",
   "nbconvert_exporter": "python",
   "pygments_lexer": "ipython3",
   "version": "3.7.4"
  }
 },
 "nbformat": 4,
 "nbformat_minor": 2
}
