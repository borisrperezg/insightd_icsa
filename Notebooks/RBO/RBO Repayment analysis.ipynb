{
 "cells": [
  {
   "cell_type": "code",
   "execution_count": 10,
   "metadata": {},
   "outputs": [],
   "source": [
    "import rbo\n",
    "import pandas as pd\n",
    "import numpy as np\n",
    "import matplotlib.pyplot as plt\n",
    "\n",
    "%matplotlib inline"
   ]
  },
  {
   "cell_type": "code",
   "execution_count": 11,
   "metadata": {},
   "outputs": [],
   "source": [
    "data=pd.read_csv(\"RBO-Role-Repayment.csv\")"
   ]
  },
  {
   "cell_type": "code",
   "execution_count": 12,
   "metadata": {},
   "outputs": [],
   "source": [
    "ar_rank=data[data['ROLES']=='ARCHITECT']\n",
    "te_rank=data[data['ROLES']=='TECHNICAL']\n",
    "ma_rank=data[data['ROLES']=='MANAGEMENT']"
   ]
  },
  {
   "cell_type": "code",
   "execution_count": 13,
   "metadata": {},
   "outputs": [],
   "source": [
    "roles=['ARCHITECT','TECHNICAL','MANAGEMENT']\n",
    "p_values=np.arange(0.5, 0.98, 0.01)"
   ]
  },
  {
   "cell_type": "code",
   "execution_count": 14,
   "metadata": {},
   "outputs": [],
   "source": [
    "rboDF=pd.DataFrame(columns = ['roles' , 'p', 'RBO'])\n",
    "for i in range(len(roles)):\n",
    "    for j in range(len(roles)):\n",
    "        if i>j:\n",
    "            for p_val in p_values:\n",
    "                #print(countries[i]+\"-\"+countries[j]+\",\"+str(p))\n",
    "                rbo_ext=rbo.rbo(data[data['ROLES']==roles[i]]['REPAYMENT'], data[data['ROLES']==roles[j]]['REPAYMENT'], p=p_val)\n",
    "                #rboDF=rboDF.append({'Countries':'CO-CHI','p':0.5,'RBO':99},ignore_index=True)\n",
    "                rboDF=rboDF.append({'roles':roles[i]+\"-\"+roles[j],'p':p_val,'RBO':rbo_ext['ext']},ignore_index=True)\n",
    "            \n",
    "        "
   ]
  },
  {
   "cell_type": "code",
   "execution_count": 15,
   "metadata": {},
   "outputs": [
    {
     "data": {
      "text/plain": [
       "{'min': 0.4483574118737742,\n",
       " 'res': 0.22698281902170264,\n",
       " 'ext': 0.5803866494370562}"
      ]
     },
     "execution_count": 15,
     "metadata": {},
     "output_type": "execute_result"
    }
   ],
   "source": [
    "rbo_ext=rbo.rbo(data[data['ROLES']==roles[0]]['REPAYMENT'], data[data['ROLES']==roles[1]]['REPAYMENT'], p=0.95)\n",
    "rbo_ext"
   ]
  },
  {
   "cell_type": "code",
   "execution_count": 16,
   "metadata": {},
   "outputs": [
    {
     "data": {
      "text/html": [
       "<div>\n",
       "<style scoped>\n",
       "    .dataframe tbody tr th:only-of-type {\n",
       "        vertical-align: middle;\n",
       "    }\n",
       "\n",
       "    .dataframe tbody tr th {\n",
       "        vertical-align: top;\n",
       "    }\n",
       "\n",
       "    .dataframe thead th {\n",
       "        text-align: right;\n",
       "    }\n",
       "</style>\n",
       "<table border=\"1\" class=\"dataframe\">\n",
       "  <thead>\n",
       "    <tr style=\"text-align: right;\">\n",
       "      <th></th>\n",
       "      <th>roles</th>\n",
       "      <th>p</th>\n",
       "      <th>RBO</th>\n",
       "    </tr>\n",
       "  </thead>\n",
       "  <tbody>\n",
       "    <tr>\n",
       "      <td>64</td>\n",
       "      <td>MANAGEMENT-ARCHITECT</td>\n",
       "      <td>0.66</td>\n",
       "      <td>0.741199</td>\n",
       "    </tr>\n",
       "    <tr>\n",
       "      <td>69</td>\n",
       "      <td>MANAGEMENT-ARCHITECT</td>\n",
       "      <td>0.71</td>\n",
       "      <td>0.722745</td>\n",
       "    </tr>\n",
       "    <tr>\n",
       "      <td>27</td>\n",
       "      <td>TECHNICAL-ARCHITECT</td>\n",
       "      <td>0.77</td>\n",
       "      <td>0.589736</td>\n",
       "    </tr>\n",
       "    <tr>\n",
       "      <td>115</td>\n",
       "      <td>MANAGEMENT-TECHNICAL</td>\n",
       "      <td>0.69</td>\n",
       "      <td>0.652400</td>\n",
       "    </tr>\n",
       "    <tr>\n",
       "      <td>110</td>\n",
       "      <td>MANAGEMENT-TECHNICAL</td>\n",
       "      <td>0.64</td>\n",
       "      <td>0.665547</td>\n",
       "    </tr>\n",
       "  </tbody>\n",
       "</table>\n",
       "</div>"
      ],
      "text/plain": [
       "                    roles     p       RBO\n",
       "64   MANAGEMENT-ARCHITECT  0.66  0.741199\n",
       "69   MANAGEMENT-ARCHITECT  0.71  0.722745\n",
       "27    TECHNICAL-ARCHITECT  0.77  0.589736\n",
       "115  MANAGEMENT-TECHNICAL  0.69  0.652400\n",
       "110  MANAGEMENT-TECHNICAL  0.64  0.665547"
      ]
     },
     "execution_count": 16,
     "metadata": {},
     "output_type": "execute_result"
    }
   ],
   "source": [
    "rboDF.sample(5)"
   ]
  },
  {
   "cell_type": "code",
   "execution_count": 17,
   "metadata": {},
   "outputs": [
    {
     "data": {
      "text/plain": [
       "[<matplotlib.lines.Line2D at 0x11bef0750>]"
      ]
     },
     "execution_count": 17,
     "metadata": {},
     "output_type": "execute_result"
    },
    {
     "data": {
      "image/png": "[encoded data removed]",
      "text/plain": [
       "<Figure size 432x288 with 1 Axes>"
      ]
     },
     "metadata": {
      "needs_background": "light"
     },
     "output_type": "display_data"
    }
   ],
   "source": [
    "plt.plot( 'p', 'RBO', data=rboDF[rboDF['roles']=='MANAGEMENT-TECHNICAL'], color='olive', linestyle='dashed', label=roles[i]+\"-\"+roles[j])"
   ]
  },
  {
   "cell_type": "code",
   "execution_count": 18,
   "metadata": {},
   "outputs": [
    {
     "data": {
      "text/plain": [
       "<matplotlib.legend.Legend at 0x11bfb5e90>"
      ]
     },
     "execution_count": 18,
     "metadata": {},
     "output_type": "execute_result"
    },
    {
     "data": {
      "image/png": "[encoded data removed]",
      "text/plain": [
       "<Figure size 936x576 with 1 Axes>"
      ]
     },
     "metadata": {
      "needs_background": "light"
     },
     "output_type": "display_data"
    }
   ],
   "source": [
    "colors=['red','olive','blue','black','green','orange']\n",
    "markers=['o','','x','o','','x']\n",
    "plt.figure(figsize=(13,8))\n",
    "count=0\n",
    "for i in range(len(roles)):\n",
    "    for j in range(len(roles)):\n",
    "        if i>j:\n",
    "            \n",
    "            pair=roles[i]+\"-\"+roles[j]\n",
    "            plt.plot( 'p', 'RBO', data=rboDF[rboDF['roles']==pair], marker=markers[count], color=colors[count]\n",
    "                     , linestyle='dashed', label=pair)\n",
    "            count=count+1\n",
    "plt.legend(prop={'size': 17})\n"
   ]
  },
  {
   "cell_type": "code",
   "execution_count": 19,
   "metadata": {},
   "outputs": [
    {
     "data": {
      "text/plain": [
       "{'min': 0.7944235118121314,\n",
       " 'res': 1.623101371724091e-06,\n",
       " 'ext': 0.7944254452983356}"
      ]
     },
     "execution_count": 19,
     "metadata": {},
     "output_type": "execute_result"
    }
   ],
   "source": [
    "rbo.rbo(ma_rank['REPAYMENT'], ar_rank['REPAYMENT'], p=.5)"
   ]
  },
  {
   "cell_type": "code",
   "execution_count": 20,
   "metadata": {},
   "outputs": [
    {
     "data": {
      "text/plain": [
       "{'min': 0.35145856593008434,\n",
       " 'res': 0.41389461251291576,\n",
       " 'ext': 0.4995225302071171}"
      ]
     },
     "execution_count": 20,
     "metadata": {},
     "output_type": "execute_result"
    }
   ],
   "source": [
    "rbo.rbo(ma_rank['REPAYMENT'], ar_rank['REPAYMENT'], p=.97)"
   ]
  },
  {
   "cell_type": "code",
   "execution_count": 12,
   "metadata": {},
   "outputs": [
    {
     "data": {
      "text/plain": [
       "{'min': 0.7282936515996967,\n",
       " 'res': 4.0000399738833547e-08,\n",
       " 'ext': 0.7282937145425193}"
      ]
     },
     "execution_count": 12,
     "metadata": {},
     "output_type": "execute_result"
    }
   ],
   "source": [
    "rbo.rbo(te_rank['REPAYMENT'], ar_rank['REPAYMENT'], p=.5)"
   ]
  },
  {
   "cell_type": "code",
   "execution_count": 21,
   "metadata": {},
   "outputs": [
    {
     "data": {
      "text/plain": [
       "{'min': 0.7153123705025957,\n",
       " 'res': 1.6220833121651017e-06,\n",
       " 'ext': 0.7153138123878064}"
      ]
     },
     "execution_count": 21,
     "metadata": {},
     "output_type": "execute_result"
    }
   ],
   "source": [
    "rbo.rbo(te_rank['REPAYMENT'], ar_rank['REPAYMENT'], p=.5)"
   ]
  },
  {
   "cell_type": "code",
   "execution_count": 22,
   "metadata": {},
   "outputs": [
    {
     "data": {
      "text/plain": [
       "{'min': 0.37033271320033756,\n",
       " 'res': 0.38865725088111513,\n",
       " 'ext': 0.5712586969394341}"
      ]
     },
     "execution_count": 22,
     "metadata": {},
     "output_type": "execute_result"
    }
   ],
   "source": [
    "rbo.rbo(te_rank['REPAYMENT'], ar_rank['REPAYMENT'], p=.97)"
   ]
  },
  {
   "cell_type": "code",
   "execution_count": 23,
   "metadata": {},
   "outputs": [
    {
     "data": {
      "text/plain": [
       "{'min': 0.724447260016774,\n",
       " 'res': 1.045500113090336e-09,\n",
       " 'ext': 0.7244472610586}"
      ]
     },
     "execution_count": 23,
     "metadata": {},
     "output_type": "execute_result"
    }
   ],
   "source": [
    "rbo.rbo(te_rank['REPAYMENT'], ma_rank['REPAYMENT'], p=.5)"
   ]
  },
  {
   "cell_type": "code",
   "execution_count": 13,
   "metadata": {},
   "outputs": [
    {
     "data": {
      "text/plain": [
       "{'min': 0.742676383174528,\n",
       " 'res': 2.1520454713438013e-09,\n",
       " 'ext': 0.7426763851703548}"
      ]
     },
     "execution_count": 13,
     "metadata": {},
     "output_type": "execute_result"
    }
   ],
   "source": [
    "rbo.rbo(te_rank['REPAYMENT'], ma_rank['REPAYMENT'], p=.97)"
   ]
  }
 ],
 "metadata": {
  "kernelspec": {
   "display_name": "Python 3",
   "language": "python",
   "name": "python3"
  },
  "language_info": {
   "codemirror_mode": {
    "name": "ipython",
    "version": 3
   },
   "file_extension": ".py",
   "mimetype": "text/x-python",
   "name": "python",
   "nbconvert_exporter": "python",
   "pygments_lexer": "ipython3",
   "version": "3.7.4"
  }
 },
 "nbformat": 4,
 "nbformat_minor": 2
}
